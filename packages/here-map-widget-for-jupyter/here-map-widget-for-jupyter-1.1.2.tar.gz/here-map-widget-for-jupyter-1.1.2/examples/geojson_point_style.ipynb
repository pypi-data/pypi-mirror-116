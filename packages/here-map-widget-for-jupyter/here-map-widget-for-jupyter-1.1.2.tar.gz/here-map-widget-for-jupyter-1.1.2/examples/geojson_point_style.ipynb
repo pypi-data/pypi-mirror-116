{
 "cells": [
  {
   "cell_type": "markdown",
   "id": "surprised-burden",
   "metadata": {},
   "source": [
    "<div class=\"alert alert-block alert-warning\">\n",
    "<b>Warning:</b> Before running below cells please make sure you have API key. \n",
    "                Please see <a href=\"https://github.com/heremaps/here-map-widget-for-jupyter/blob/master/examples/README.md\">README.md</a> for more info on API key.\n",
    "</div>"
   ]
  },
  {
   "cell_type": "code",
   "execution_count": null,
   "id": "identical-raise",
   "metadata": {},
   "outputs": [],
   "source": [
    "import os\n",
    "import requests\n",
    "\n",
    "from here_map_widget import Map, GeoJSON"
   ]
  },
  {
   "cell_type": "code",
   "execution_count": null,
   "id": "demanding-making",
   "metadata": {},
   "outputs": [],
   "source": [
    "os.environ[\"LS_API_KEY\"] = \"MY-API-KEY\" # replace your API key here."
   ]
  },
  {
   "cell_type": "code",
   "execution_count": null,
   "id": "double-springer",
   "metadata": {},
   "outputs": [],
   "source": [
    "url = \"http://earthquake.usgs.gov/earthquakes/feed/v1.0/summary/2.5_month.geojson\"\n",
    "earthquakes = requests.get(url).json()"
   ]
  },
  {
   "cell_type": "code",
   "execution_count": null,
   "id": "accessible-crest",
   "metadata": {},
   "outputs": [],
   "source": [
    "m = Map(api_key=os.environ['LS_API_KEY'])\n",
    "\n",
    "point_style = {\"strokeColor\": 'white', \"lineWidth\": 1, \"fillColor\": \"red\", \"fillOpacity\": 0.7, \"radius\": 5}\n",
    "\n",
    "geo_layer = GeoJSON(data=earthquakes, show_bubble=True, point_style=point_style)\n",
    "\n",
    "m.add_layer(geo_layer)\n",
    "m"
   ]
  }
 ],
 "metadata": {
  "kernelspec": {
   "display_name": "Python 3",
   "language": "python",
   "name": "python3"
  },
  "language_info": {
   "codemirror_mode": {
    "name": "ipython",
    "version": 3
   },
   "file_extension": ".py",
   "mimetype": "text/x-python",
   "name": "python",
   "nbconvert_exporter": "python",
   "pygments_lexer": "ipython3",
   "version": "3.8.8"
  }
 },
 "nbformat": 4,
 "nbformat_minor": 5
}
