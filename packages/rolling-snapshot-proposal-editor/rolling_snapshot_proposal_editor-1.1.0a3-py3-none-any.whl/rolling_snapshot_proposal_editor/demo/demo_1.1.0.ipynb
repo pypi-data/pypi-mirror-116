{
 "cells": [
  {
   "cell_type": "code",
   "execution_count": 1,
   "id": "ce90eb12-673c-4f6d-bc09-0a5001e88f90",
   "metadata": {},
   "outputs": [
    {
     "data": {
      "text/plain": [
       "0"
      ]
     },
     "execution_count": 1,
     "metadata": {},
     "output_type": "execute_result"
    }
   ],
   "source": [
    "import os,glob\n",
    "t = glob.glob('*')\n",
    "if 'tmp' in t:\n",
    "    os.system('rm -R tmp')\n",
    "os.system('mkdir tmp')"
   ]
  },
  {
   "cell_type": "code",
   "execution_count": 2,
   "id": "3319aef1-6fd1-46fe-bf8f-01d0d7dbbb27",
   "metadata": {},
   "outputs": [
    {
     "name": "stdout",
     "output_type": "stream",
     "text": [
      "Access the sheet by self.df ...\n",
      "\n"
     ]
    }
   ],
   "source": [
    "##### Example: read Google sheet\n",
    "from rolling_snapshot_proposal_editor.googlesheetreader import GoogleSheetReader\n",
    "CREDENTIAL = '/Users/kbhirombhakdi/Downloads/client_secret_560341155382-s324iuntpd9djf1avojfh6u1e4shu012.apps.googleusercontent.com.json'\n",
    "SCOPES = ['https://www.googleapis.com/auth/spreadsheets.readonly']\n",
    "SHEETID = '1eR2AQkKx9RytN2Pj7cwqeYJjLh8IEC4wXx96Lq2McGI'\n",
    "RANGENAME = 'Active'\n",
    "sheet = GoogleSheetReader(scopes=SCOPES,sheetid=SHEETID,rangename=RANGENAME,credential=CREDENTIAL)"
   ]
  },
  {
   "cell_type": "code",
   "execution_count": 3,
   "id": "c2a46611-db24-4069-a575-75191f2d6363",
   "metadata": {
    "tags": []
   },
   "outputs": [
    {
     "name": "stdout",
     "output_type": "stream",
     "text": [
      "Start update_targetlist_from_sheet ... \n",
      "\n",
      "Grabbing active target list ...\n",
      "\n",
      "Grabing old target list ...\n",
      "\n",
      "Read propfile ...\n",
      "\n"
     ]
    },
    {
     "ename": "FileNotFoundError",
     "evalue": "[Errno 2] No such file or directory: './tmp/test.prop'",
     "output_type": "error",
     "traceback": [
      "\u001b[0;31m---------------------------------------------------------------------------\u001b[0m",
      "\u001b[0;31mFileNotFoundError\u001b[0m                         Traceback (most recent call last)",
      "\u001b[0;32m<ipython-input-3-9d91348fbba6>\u001b[0m in \u001b[0;36m<module>\u001b[0;34m\u001b[0m\n\u001b[1;32m      3\u001b[0m \u001b[0mpropfile\u001b[0m \u001b[0;34m=\u001b[0m \u001b[0;34m'../ASSETS/PHASE2/Rolling_16682_Week1v1_withsub.prop'\u001b[0m\u001b[0;34m\u001b[0m\u001b[0;34m\u001b[0m\u001b[0m\n\u001b[1;32m      4\u001b[0m \u001b[0moutname\u001b[0m \u001b[0;34m=\u001b[0m \u001b[0;34m'./tmp/test.prop'\u001b[0m\u001b[0;34m\u001b[0m\u001b[0;34m\u001b[0m\u001b[0m\n\u001b[0;32m----> 5\u001b[0;31m \u001b[0mupdate_targetlist_from_sheet\u001b[0m\u001b[0;34m(\u001b[0m\u001b[0msheet\u001b[0m\u001b[0;34m.\u001b[0m\u001b[0mdf\u001b[0m\u001b[0;34m,\u001b[0m\u001b[0mpropfile\u001b[0m\u001b[0;34m,\u001b[0m\u001b[0moutname\u001b[0m\u001b[0;34m)\u001b[0m\u001b[0;34m\u001b[0m\u001b[0;34m\u001b[0m\u001b[0m\n\u001b[0m\u001b[1;32m      6\u001b[0m \u001b[0mupdate_visits_from_sheet\u001b[0m\u001b[0;34m(\u001b[0m\u001b[0msheet\u001b[0m\u001b[0;34m.\u001b[0m\u001b[0mdf\u001b[0m\u001b[0;34m,\u001b[0m\u001b[0moutname\u001b[0m\u001b[0;34m,\u001b[0m\u001b[0moutname\u001b[0m\u001b[0;34m)\u001b[0m\u001b[0;34m\u001b[0m\u001b[0;34m\u001b[0m\u001b[0m\n",
      "\u001b[0;32m~/anaconda3/envs/astroconda202104/lib/python3.7/site-packages/rolling_snapshot_proposal_editor/update_targetlist_from_sheet.py\u001b[0m in \u001b[0;36mupdate_targetlist_from_sheet\u001b[0;34m(sheet_df, propfile, outname, remove_visits, verbal)\u001b[0m\n\u001b[1;32m     22\u001b[0m     \u001b[0mactivelist\u001b[0m \u001b[0;34m=\u001b[0m \u001b[0msheet_df\u001b[0m\u001b[0;34m[\u001b[0m\u001b[0;34m'Target Number'\u001b[0m\u001b[0;34m]\u001b[0m\u001b[0;34m.\u001b[0m\u001b[0mvalues\u001b[0m\u001b[0;34m\u001b[0m\u001b[0;34m\u001b[0m\u001b[0m\n\u001b[1;32m     23\u001b[0m     \u001b[0;32mif\u001b[0m \u001b[0mverbal\u001b[0m\u001b[0;34m:\u001b[0m \u001b[0mprint\u001b[0m\u001b[0;34m(\u001b[0m\u001b[0;34m'Grabing old target list ...\\n'\u001b[0m\u001b[0;34m)\u001b[0m\u001b[0;34m\u001b[0m\u001b[0;34m\u001b[0m\u001b[0m\n\u001b[0;32m---> 24\u001b[0;31m     \u001b[0moldlist\u001b[0m \u001b[0;34m=\u001b[0m \u001b[0mprop_profiling\u001b[0m\u001b[0;34m(\u001b[0m\u001b[0moutname\u001b[0m\u001b[0;34m,\u001b[0m\u001b[0mjson_template\u001b[0m\u001b[0;34m=\u001b[0m\u001b[0;32mNone\u001b[0m\u001b[0;34m,\u001b[0m\u001b[0mby_keyword\u001b[0m\u001b[0;34m=\u001b[0m\u001b[0;32mTrue\u001b[0m\u001b[0;34m,\u001b[0m\u001b[0mkeyword\u001b[0m\u001b[0;34m=\u001b[0m\u001b[0;34m'Target_Number:'\u001b[0m\u001b[0;34m)\u001b[0m\u001b[0;34m\u001b[0m\u001b[0;34m\u001b[0m\u001b[0m\n\u001b[0m\u001b[1;32m     25\u001b[0m     \u001b[0;32mif\u001b[0m \u001b[0mverbal\u001b[0m\u001b[0;34m:\u001b[0m \u001b[0mprint\u001b[0m\u001b[0;34m(\u001b[0m\u001b[0;34m'Comparing lists ...\\n'\u001b[0m\u001b[0;34m)\u001b[0m\u001b[0;34m\u001b[0m\u001b[0;34m\u001b[0m\u001b[0m\n\u001b[1;32m     26\u001b[0m     \u001b[0moldlist_targetnumber\u001b[0m \u001b[0;34m=\u001b[0m \u001b[0;34m[\u001b[0m\u001b[0;34m]\u001b[0m\u001b[0;34m\u001b[0m\u001b[0;34m\u001b[0m\u001b[0m\n",
      "\u001b[0;32m~/anaconda3/envs/astroconda202104/lib/python3.7/site-packages/rolling_snapshot_proposal_editor/prop_profiling.py\u001b[0m in \u001b[0;36mprop_profiling\u001b[0;34m(propfile, json_template, by_keyword, keyword)\u001b[0m\n\u001b[1;32m      8\u001b[0m     \u001b[0;31m#####\u001b[0m\u001b[0;34m\u001b[0m\u001b[0;34m\u001b[0m\u001b[0;34m\u001b[0m\u001b[0m\n\u001b[1;32m      9\u001b[0m     \u001b[0mprint\u001b[0m\u001b[0;34m(\u001b[0m\u001b[0;34m'Read propfile ...\\n'\u001b[0m\u001b[0;34m)\u001b[0m\u001b[0;34m\u001b[0m\u001b[0;34m\u001b[0m\u001b[0m\n\u001b[0;32m---> 10\u001b[0;31m     \u001b[0mf\u001b[0m \u001b[0;34m=\u001b[0m \u001b[0mopen\u001b[0m\u001b[0;34m(\u001b[0m\u001b[0mpropfile\u001b[0m\u001b[0;34m,\u001b[0m\u001b[0;34m'r'\u001b[0m\u001b[0;34m)\u001b[0m\u001b[0;34m\u001b[0m\u001b[0;34m\u001b[0m\u001b[0m\n\u001b[0m\u001b[1;32m     11\u001b[0m     \u001b[0mt0\u001b[0m \u001b[0;34m=\u001b[0m \u001b[0mf\u001b[0m\u001b[0;34m.\u001b[0m\u001b[0mreadlines\u001b[0m\u001b[0;34m(\u001b[0m\u001b[0;34m)\u001b[0m\u001b[0;34m\u001b[0m\u001b[0;34m\u001b[0m\u001b[0m\n\u001b[1;32m     12\u001b[0m     \u001b[0mf\u001b[0m\u001b[0;34m.\u001b[0m\u001b[0mclose\u001b[0m\u001b[0;34m(\u001b[0m\u001b[0;34m)\u001b[0m\u001b[0;34m\u001b[0m\u001b[0;34m\u001b[0m\u001b[0m\n",
      "\u001b[0;31mFileNotFoundError\u001b[0m: [Errno 2] No such file or directory: './tmp/test.prop'"
     ]
    }
   ],
   "source": [
    "from rolling_snapshot_proposal_editor.templatehandler import TemplateHandler\n",
    "from rolling_snapshot_proposal_editor.update_targetlist_from_sheet import update_targetlist_from_sheet\n",
    "from rolling_snapshot_proposal_editor.update_visits_from_sheet import update_visits_from_sheet\n",
    "propfile = TemplateH\n",
    "outname = './tmp/test.prop'\n",
    "update_targetlist_from_sheet(sheet.df,propfile,outname)\n",
    "update_visits_from_sheet(sheet.df,outname,outname)"
   ]
  },
  {
   "cell_type": "code",
   "execution_count": null,
   "id": "b352d530-a0f4-4852-a5ce-f00caac3a3c7",
   "metadata": {},
   "outputs": [],
   "source": []
  },
  {
   "cell_type": "code",
   "execution_count": null,
   "id": "f08bb214-8576-403b-802e-1f0484e1a4c3",
   "metadata": {},
   "outputs": [],
   "source": []
  }
 ],
 "metadata": {
  "kernelspec": {
   "display_name": "Python 3",
   "language": "python",
   "name": "python3"
  },
  "language_info": {
   "codemirror_mode": {
    "name": "ipython",
    "version": 3
   },
   "file_extension": ".py",
   "mimetype": "text/x-python",
   "name": "python",
   "nbconvert_exporter": "python",
   "pygments_lexer": "ipython3",
   "version": "3.7.10"
  }
 },
 "nbformat": 4,
 "nbformat_minor": 5
}
