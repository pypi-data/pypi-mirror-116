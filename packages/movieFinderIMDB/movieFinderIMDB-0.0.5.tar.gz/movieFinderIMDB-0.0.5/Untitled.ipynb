{
 "cells": [
  {
   "cell_type": "code",
   "execution_count": 1,
   "id": "80db381b-46cb-45ce-bddd-397996602080",
   "metadata": {},
   "outputs": [],
   "source": [
    "import movieFinder\n",
    "import pandas as pd"
   ]
  },
  {
   "cell_type": "code",
   "execution_count": 2,
   "id": "7176f165-f8fa-4905-be5a-adfc52ea98d3",
   "metadata": {},
   "outputs": [],
   "source": [
    "movieFinder.store_movies()"
   ]
  },
  {
   "cell_type": "code",
   "execution_count": 4,
   "id": "cd90ed74-ddf4-4dc7-9f7b-8c6035e7267c",
   "metadata": {},
   "outputs": [],
   "source": [
    "df = pd.read_pickle('all_movies.pkl')"
   ]
  },
  {
   "cell_type": "code",
   "execution_count": 5,
   "id": "71038309-fc76-4408-b58d-851606555c7b",
   "metadata": {},
   "outputs": [],
   "source": [
    "mf = movieFinder.imdb_moviefinder(df)"
   ]
  },
  {
   "cell_type": "code",
   "execution_count": null,
   "id": "ff06788a-85ad-4099-b876-6c8e154cbb89",
   "metadata": {},
   "outputs": [],
   "source": [
    "årstal_fra = 2016\n",
    "årstal_til = 2021\n",
    "genre = 'Sci-Fi'\n",
    "average_rating_from = 6"
   ]
  },
  {
   "cell_type": "code",
   "execution_count": 3,
   "id": "5c26e861-0ba4-433c-9ca6-55972aa6e74c",
   "metadata": {},
   "outputs": [
    {
     "data": {
      "text/plain": [
       "\"Repo made because I was frustrated with IMDB's search engine or lack hereof.\\n\\n``` imdb_moviefinder``` makes use of year, rating, votes and genres to find movies of your liking. Use as you please.\\n\\nA clean installation using jupyter lab as interactive interpreter can be done as so:\\n\\n\\n```conda create -name imdb python 3.9```\\n\\n```conda activate imdb```\\n\\n```pip install movieFinderIMDB```\\n\\n```conda install jupyterlab```\\n\\nFrom here I'd open jupyterlab and with ```jupyter lab``` and run the code below\\n\\n```\\nimport movieFinder\\nmovieFinder.store_movies() # this may take a while as it downloads, unpacks and compress a couple of large files\\nimport pandas as pd\\ndf = pd.read_pickle('all_movies.pkl')\\nmf = movieFinder.imdb_moviefinder(df)\\nmovies = mf.search_movies(year_from=2015, year_to=2021, genre='Sci-Fi', num_votes_from=100000, average_rating_from=7)\\nmovies\\n```\\nThis will show the some great movies from 2015 to 2021. Note that genres hold the following possibilities: \\n\\n```\\ngenres: ['Comedy' 'Drama' 'Action' 'Animation' 'Horror' 'Biography' 'Adventure'\\n 'Documentary' 'Crime' 'Fantasy' 'Thriller' 'Mystery' 'Romance' 'Family'\\n 'Western' 'Musical' 'Sci-Fi' 'History' 'Music' 'Sport' 'War'] \\n ```\\n \\n \\nIf interest exist you can add the release date to the dataframe as done below, beware though, that this might take a few minutes as it depends on IMDB's website itself. \\n\\n\\n```mf.get_release_month(movies)```\\n\\n\\nChange Log\\n==========\\n\\n0.0.1 (13/08/2021)\\n-------------------\\n- First Release\\n\\n0.0.2 (13/08/2021)\\n-------------------\\n- Fixed imdbpy\\n\\n0.0.3 (13/08/2021)\\n-------------------\\n- Fixed setup.py requires\\n\\n0.0.4 (13/08/2021)\\n-------------------\\n- Populated Readme\""
      ]
     },
     "execution_count": 3,
     "metadata": {},
     "output_type": "execute_result"
    }
   ],
   "source": [
    "open('README.md').read() + '\\n\\n' + open('CHANGELOG.txt').read()"
   ]
  },
  {
   "cell_type": "code",
   "execution_count": null,
   "id": "7883e6f0-01a1-4525-b015-8fc25a1e5310",
   "metadata": {},
   "outputs": [],
   "source": []
  }
 ],
 "metadata": {
  "kernelspec": {
   "display_name": "Python 3",
   "language": "python",
   "name": "python3"
  },
  "language_info": {
   "codemirror_mode": {
    "name": "ipython",
    "version": 3
   },
   "file_extension": ".py",
   "mimetype": "text/x-python",
   "name": "python",
   "nbconvert_exporter": "python",
   "pygments_lexer": "ipython3",
   "version": "3.9.6"
  }
 },
 "nbformat": 4,
 "nbformat_minor": 5
}
