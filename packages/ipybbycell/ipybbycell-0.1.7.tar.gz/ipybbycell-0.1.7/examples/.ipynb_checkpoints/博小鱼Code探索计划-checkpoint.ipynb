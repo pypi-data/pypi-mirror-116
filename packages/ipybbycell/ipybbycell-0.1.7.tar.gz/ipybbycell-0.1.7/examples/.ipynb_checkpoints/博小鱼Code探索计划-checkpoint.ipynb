{
 "cells": [
  {
   "cell_type": "markdown",
   "metadata": {
    "bxyCellId": "id_623jk3v"
   },
   "source": [
    "## 博小鱼探索计划"
   ]
  },
  {
   "cell_type": "markdown",
   "metadata": {
    "bxyCellId": "id_boggv90"
   },
   "source": [
    "### 探索Coding区域"
   ]
  },
  {
   "cell_type": "markdown",
   "metadata": {
    "bxyCellId": "id_gyo113k"
   },
   "source": [
    "**点击图片可以放大哦！**\n",
    "\n",
    "<img src=\"https://staticcdn.boyuai.com/materials/2020/11/24/Z8EF7hFiSPG_I2aw0ViBV.png!png\" style=\"width: 100%; min-width: 500px;\">"
   ]
  },
  {
   "cell_type": "code",
   "execution_count": null,
   "metadata": {
    "bxyCellId": "id_vh7bmk3",
    "inputs": []
   },
   "outputs": [],
   "source": [
    "//platform-lock-hidden\n",
    "#include <iostream>\n",
    "using namespace std;\n",
    "int main() {"
   ]
  },
  {
   "cell_type": "code",
   "execution_count": null,
   "metadata": {
    "bxyCellId": "id_k8wywpl",
    "inputs": []
   },
   "outputs": [],
   "source": [
    "// platform-edit\n",
    "\n",
    "//运行代码，跟博小鱼打个招呼吧~\n",
    "\n",
    "cout << \"Hello，小鱼儿：\" << endl << endl;\n",
    "\n",
    "cout << \"我是博小鱼，欢迎你来探索我的功能，恭喜你已经成功运行了第一段代码。快来探索第二步吧~\"<< endl;\n"
   ]
  },
  {
   "cell_type": "code",
   "execution_count": null,
   "metadata": {
    "bxyCellId": "id_nkax6kr"
   },
   "outputs": [],
   "source": [
    "//platform-edit-answer\n",
    "\n",
    "//嘻嘻，该步骤没有答案哦"
   ]
  },
  {
   "cell_type": "code",
   "execution_count": null,
   "metadata": {
    "bxyCellId": "id_5qezbp1",
    "inputs": []
   },
   "outputs": [
    {
     "name": "stdout",
     "output_type": "stream",
     "text": [
      "Hello，小鱼儿：\n",
      "\n",
      "我是博小鱼，欢迎你来探索我的功能，恭喜你已经成功运行了第一段代码。快来探索第二步吧~\n"
     ]
    }
   ],
   "source": [
    "//platform-lock-hidden\n",
    "}"
   ]
  },
  {
   "cell_type": "markdown",
   "metadata": {
    "bxyCellId": "id_4mukfb5"
   },
   "source": []
  },
  {
   "cell_type": "markdown",
   "metadata": {
    "bxyCellId": "id_bu5zesx"
   },
   "source": [
    "### 跟博小鱼立下你的Coding Flag吧！"
   ]
  },
  {
   "cell_type": "markdown",
   "metadata": {
    "bxyCellId": "id_gvj9v0u"
   },
   "source": [
    "**点击图片可以放大哦！**\n",
    "\n",
    "<img src=\"https://staticcdn.boyuai.com/materials/2020/11/24/55YPzRXJgt1hnd93O70-v.png!png\" style=\"width: 100%; min-width: 500px;\">"
   ]
  },
  {
   "cell_type": "code",
   "execution_count": null,
   "metadata": {
    "bxyCellId": "id_wn401oe",
    "bxyQuizStep": {
     "options": {
      "fill-1": {
       "posterSlotId": "name"
      },
      "fill-2": {
       "posterSlotId": "grade"
      },
      "fill-4": {
       "posterSlotId": "target"
      }
     }
    },
    "quizLog": {
     "content": {
      "fill-1": [
       " xhc"
      ],
      "fill-2": [
       " 8"
      ],
      "fill-3": [
       " 没有"
      ],
      "fill-4": [
       " 快乐长大"
      ],
      "rightCount": 4
     },
     "createdAt": "2021-06-04T08:17:51.573Z"
    }
   },
   "outputs": [],
   "source": [
    "#platform-quiz\n",
    "\n",
    "import ipyquiz\n",
    "quizzes = []\n",
    "\n",
    "quizzes.append({\n",
    "    \"id\": \"fill-1\",\n",
    "    \"type\": \"FILL\",\n",
    "    \"title\": \"Hello，这位小鱼儿，你的名字是？\",\n",
    "    \"answer\": \" \",\n",
    "})\n",
    "    \n",
    "    \n",
    "quizzes.append({\n",
    "    \"id\": \"fill-2\",\n",
    "    \"type\": \"FILL\",\n",
    "    \"title\": \"你今年几年级呢？\",\n",
    "    \"answer\": \" \",\n",
    "})\n",
    "    \n",
    "    \n",
    "quizzes.append({\n",
    "    \"id\": \"fill-3\",\n",
    "    \"type\": \"FILL\",\n",
    "    \"title\": \"你之前学过编程吗？如果学过，学过哪些语言呢？\",\n",
    "    \"answer\": \" \",\n",
    "})\n",
    "    \n",
    "    \n",
    "quizzes.append({\n",
    "    \"id\": \"fill-4\",\n",
    "    \"type\": \"FILL\",\n",
    "    \"title\": \"编程已经深入了我们的生活，平时用的手机、电脑都离不开编程。你希望通过学习编程做哪些事情呢？\",\n",
    "    \"answer\": \" \",\n",
    "})\n",
    "    \n",
    "ipyquiz.QuizWidget(value=quizzes, quiz_id=\"__ipyquiz_quiz_id\")"
   ]
  },
  {
   "cell_type": "markdown",
   "metadata": {
    "bxyCellId": "id_wblv649"
   },
   "source": [
    "### 周六，不见不散！"
   ]
  },
  {
   "cell_type": "markdown",
   "metadata": {
    "bxyCellId": "id_5lpyw7m"
   },
   "source": [
    "**恭喜你完成了预修任务！**\n",
    "\n",
    "**周六试听课，我们不见不散哦~**"
   ]
  },
  {
   "cell_type": "code",
   "execution_count": null,
   "metadata": {
    "bxyCellId": "id_ltuw6ig",
    "quizLog": {
     "content": {
      "fill-1": [
       " 还没想道"
      ],
      "rightCount": 1
     },
     "createdAt": "2021-06-04T08:19:36.183Z"
    }
   },
   "outputs": [],
   "source": [
    "#platform-quiz\n",
    "\n",
    "import ipyquiz\n",
    "quizzes = []\n",
    "\n",
    "quizzes.append({\n",
    "    \"id\": \"fill-1\",\n",
    "    \"type\": \"FILL\",\n",
    "    \"title\": \"你有没有什么想对田老师说的呢？\",\n",
    "    \"answer\": \" \",\n",
    "})\n",
    "    \n",
    "ipyquiz.QuizWidget(value=quizzes, quiz_id=\"__ipyquiz_quiz_id\")"
   ]
  }
 ],
 "metadata": {
  "bxyId": "id_jv3zyz7",
  "bxyPosterId": "experience-0:v3",
  "kernelspec": {
   "display_name": "C++11",
   "language": "C++11",
   "name": "xcpp11"
  },
  "language_info": {
   "codemirror_mode": "text/x-c++src",
   "file_extension": ".cpp",
   "mimetype": "text/x-c++src",
   "name": "c++",
   "version": "11"
  },
  "toc": {
   "base_numbering": 1,
   "nav_menu": {},
   "number_sections": true,
   "sideBar": true,
   "skip_h1_title": false,
   "title_cell": "Table of Contents",
   "title_sidebar": "Contents",
   "toc_cell": false,
   "toc_position": {},
   "toc_section_display": true,
   "toc_window_display": true
  }
 },
 "nbformat": 4,
 "nbformat_minor": 4
}
