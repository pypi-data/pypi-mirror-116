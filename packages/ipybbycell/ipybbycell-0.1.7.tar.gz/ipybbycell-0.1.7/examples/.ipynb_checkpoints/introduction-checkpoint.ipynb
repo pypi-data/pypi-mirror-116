{
 "cells": [
  {
   "cell_type": "code",
   "execution_count": null,
   "metadata": {
    "bxyCellId": "id_df40agb"
   },
   "outputs": [],
   "source": []
  },
  {
   "cell_type": "markdown",
   "metadata": {
    "bxyCellId": "id_ymmguf8"
   },
   "source": [
    "### 步骤标题"
   ]
  },
  {
   "cell_type": "code",
   "execution_count": null,
   "metadata": {
    "bxyCellId": "id_xdxoyd1"
   },
   "outputs": [],
   "source": [
    "#platform-desc\n",
    "from ipyaliplayer import Player\n",
    "Player(vid='--替换你的视频id，上传地址 https://www.boyuai.com/elites/admin/public-video', aspect_ratio=4/3)\n"
   ]
  },
  {
   "cell_type": "markdown",
   "metadata": {
    "bxyCellId": "id_3bhx9zf"
   },
   "source": [
    "<!--步骤描述 -->\n",
    "\n",
    "#### 知识点\n",
    "- 总结视频中的知识点\n",
    "\n",
    "#### 代码练习说明\n",
    "- 代码练习题目说明\n",
    "\n",
    "#### 代码练习提示\n",
    "- 代码练习提示"
   ]
  },
  {
   "cell_type": "code",
   "execution_count": null,
   "metadata": {
    "bxyCellId": "id_6u9vrah"
   },
   "outputs": [],
   "source": [
    "#platform-lock-hidden\n",
    "\n",
    "# platform-lock-hidden 的代码不会展示，但会被运行\n",
    "\n",
    "def add(x):\n",
    "  return x + 1"
   ]
  },
  {
   "cell_type": "code",
   "execution_count": null,
   "metadata": {
    "bxyCellId": "id_zack0wa"
   },
   "outputs": [],
   "source": [
    "#platform-edit\n",
    "\n",
    "# platform-edit 可被学员编辑\n",
    "\n",
    "$$$"
   ]
  },
  {
   "cell_type": "code",
   "execution_count": null,
   "metadata": {
    "bxyCellId": "id_he5snzx"
   },
   "outputs": [],
   "source": [
    "#platform\n",
    "\n",
    "# 练习答案代码\n",
    "# 我们提供“一键填入”功能将答案复制到对应的代码块中\n",
    "# 建议 platform-edit-answer 块是直接在 platform-edit 块的基础上修改，并添加额外的解释说明\n",
    "\n",
    "x = add(0)"
   ]
  },
  {
   "cell_type": "code",
   "execution_count": null,
   "metadata": {
    "bxyCellId": "id_4dui3vf"
   },
   "outputs": [],
   "source": [
    "#platform-lock\n",
    "\n",
    "# platform-lock 的代码会被展示和运行，无法修改\n",
    "print(\"add(0) =\", x)"
   ]
  }
 ],
 "metadata": {
  "bxyId": "id_y33kqx1",
  "bxyPosterId": "poster",
  "graffiti": {
   "firstAuthorId": "dev",
   "id": "id_oifly75",
   "language": "EN"
  },
  "kernelspec": {
   "display_name": "Python 3",
   "language": "python",
   "name": "python3"
  },
  "language_info": {
   "codemirror_mode": {
    "name": "ipython",
    "version": 3
   },
   "file_extension": ".py",
   "mimetype": "text/x-python",
   "name": "python",
   "nbconvert_exporter": "python",
   "pygments_lexer": "ipython3",
   "version": "3.9.4"
  }
 },
 "nbformat": 4,
 "nbformat_minor": 2
}
