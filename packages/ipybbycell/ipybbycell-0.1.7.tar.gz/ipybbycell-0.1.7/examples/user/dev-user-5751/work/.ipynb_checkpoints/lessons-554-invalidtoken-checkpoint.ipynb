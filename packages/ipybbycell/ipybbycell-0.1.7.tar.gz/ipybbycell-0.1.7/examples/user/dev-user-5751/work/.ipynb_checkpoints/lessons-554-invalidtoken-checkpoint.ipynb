{
 "cells": [
  {
   "cell_type": "code",
   "execution_count": null,
   "id": "83365f26",
   "metadata": {},
   "outputs": [],
   "source": []
  },
  {
   "cell_type": "markdown",
   "id": "58fa501d",
   "metadata": {},
   "source": [
    "### 步骤标题"
   ]
  },
  {
   "cell_type": "code",
   "execution_count": null,
   "id": "cc78f397",
   "metadata": {},
   "outputs": [],
   "source": [
    "#platform-desc\n",
    "from ipyaliplayer import Player\n",
    "Player(vid='--替换你的视频id，上传地址 https://www.boyuai.com/elites/admin/public-video', aspect_ratio=4/3)\n"
   ]
  },
  {
   "cell_type": "markdown",
   "id": "e7108973",
   "metadata": {},
   "source": [
    "<!--步骤描述 -->\n",
    "\n",
    "#### 知识点\n",
    "- 总结视频中的知识点"
   ]
  },
  {
   "cell_type": "code",
   "execution_count": null,
   "id": "95c7bc15",
   "metadata": {},
   "outputs": [],
   "source": [
    "#platform-quiz\n",
    "import ipyquiz\n",
    "quizzes = []\n",
    "\n",
    "quizzes.append({\n",
    "  \"id\": \"uuid-Zzkab82a9a5RiEqK7srLf8\",\n",
    "  \"type\": \"FILL\",\n",
    "  \"title\": \"学习是系统通过____提升性能的过程。\",\n",
    "  \"answer\": \"经验\"\n",
    "})\n",
    "\n",
    "quizzes.append({\n",
    "  \"id\": \"fill-2\",\n",
    "  \"type\": \"FILL\",\n",
    "  \"title\": \"\"\"\n",
    "试试**markdown**吧\n",
    "$x+1$\n",
    "\"\"\",\n",
    "  \"answer\": \"1\"\n",
    "})\n",
    "\n",
    "quizzes.append({\n",
    "  \"id\": \"fill-3\",\n",
    "  \"type\": \"FILL\",\n",
    "  \"title\": \"填啥都行\",\n",
    "  \"answer\": \"\"\n",
    "})\n",
    "\n",
    "quizzes.append({\n",
    "  \"id\": \"choice-1\",\n",
    "  \"type\": \"SELECT\",\n",
    "  \"title\": \"matplotlib 绘制图形的基本组成包含文字部分和图形部分，以下说法错误的是：\",\n",
    "  \"answer\": \"1\",\n",
    "  \"options\": [\n",
    "      {\n",
    "          \"value\": \"0\",\n",
    "          \"text\": \"图形标题、图例是基本组成中的文字部分。\"\n",
    "      },\n",
    "      {\n",
    "          \"value\": \"1\",\n",
    "          \"text\": \"x、y 坐标轴、刻度标签是基本组成中的文字部分。\"\n",
    "      },\n",
    "      {\n",
    "          \"value\": \"2\",\n",
    "          \"text\": \"边框、网格是基本组成中的图形部分。\"\n",
    "      },\n",
    "      {\n",
    "          \"value\": \"3\",\n",
    "          \"text\": \"数据图形（折线图及散点图）是基本组成中的图形部分。\"\n",
    "      },\n",
    "  ]\n",
    "})\n",
    "\n",
    "quizzes.append({\n",
    "  \"id\": \"choice-2\",\n",
    "  \"type\": \"SELECT\",\n",
    "  \"title\": \"以下关于 matplotlib 绘制图形的层次的说法，错误的是：\",\n",
    "  \"answer\": \"3\",\n",
    "  \"options\": [\n",
    "      {\n",
    "          \"value\": \"0\",\n",
    "          \"text\": \"画架层（canvas）类似于在绘画时需要一个画架放置画板。\"\n",
    "      },\n",
    "      {\n",
    "          \"value\": \"1\",\n",
    "          \"text\": \"画板层（figure）是指在画板上可以铺上画纸，是允许绘图的最大空间\"\n",
    "      },\n",
    "      {\n",
    "          \"value\": \"2\",\n",
    "          \"text\": \"画纸层（axes）上可以进行各种图形的绘制，图形的组成元素在画纸上体现\"\n",
    "      },\n",
    "      {\n",
    "          \"value\": \"3\",\n",
    "          \"text\": \"画板层（figure）可以包含一张画纸绘制单个图，但是无法包含多张画纸绘制多个子图或者图中图。\"\n",
    "      },\n",
    "  ]\n",
    "})\n",
    "\n",
    "ipyquiz.QuizWidget(value=quizzes, quiz_id=\"__ipyquiz_quiz_id\")\n"
   ]
  }
 ],
 "metadata": {
  "kernelspec": {
   "display_name": "Python 3",
   "language": "python",
   "name": "python3"
  },
  "language_info": {
   "codemirror_mode": {
    "name": "ipython",
    "version": 3
   },
   "file_extension": ".py",
   "mimetype": "text/x-python",
   "name": "python",
   "nbconvert_exporter": "python",
   "pygments_lexer": "ipython3",
   "version": "3.9.4"
  }
 },
 "nbformat": 4,
 "nbformat_minor": 5
}
