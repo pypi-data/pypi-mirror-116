{
 "cells": [
  {
   "cell_type": "code",
   "execution_count": 1,
   "id": "empty-miller",
   "metadata": {},
   "outputs": [
    {
     "name": "stdout",
     "output_type": "stream",
     "text": [
      "{\n",
      "  \"shell_port\": 61013,\n",
      "  \"iopub_port\": 61014,\n",
      "  \"stdin_port\": 61015,\n",
      "  \"control_port\": 61017,\n",
      "  \"hb_port\": 61016,\n",
      "  \"ip\": \"127.0.0.1\",\n",
      "  \"key\": \"607fbc1d-e56853e4cd69e6d44084656a\",\n",
      "  \"transport\": \"tcp\",\n",
      "  \"signature_scheme\": \"hmac-sha256\",\n",
      "  \"kernel_name\": \"\"\n",
      "}\n",
      "\n",
      "Paste the above JSON into a file, and connect with:\n",
      "    $> jupyter <app> --existing <file>\n",
      "or, if you are local, you can connect with just:\n",
      "    $> jupyter <app> --existing kernel-9d4f3f20-0575-4be6-adbd-5079b5991b8a.json\n",
      "or even just:\n",
      "    $> jupyter <app> --existing\n",
      "if this is the most recent Jupyter kernel you have started.\n"
     ]
    }
   ],
   "source": [
    "%connect_info"
   ]
  },
  {
   "cell_type": "code",
   "execution_count": 6,
   "id": "understanding-alliance",
   "metadata": {},
   "outputs": [],
   "source": [
    "a=1234555\n",
    "b=123\n",
    "c=123455666\n",
    "d = a+b\n",
    "e=[1,2,3,4,5,6,7]\n",
    "f=\"aaaaaaaaaa\""
   ]
  },
  {
   "cell_type": "code",
   "execution_count": 7,
   "id": "enormous-employment",
   "metadata": {},
   "outputs": [],
   "source": [
    "v=123"
   ]
  },
  {
   "cell_type": "code",
   "execution_count": null,
   "id": "indian-separation",
   "metadata": {},
   "outputs": [],
   "source": []
  }
 ],
 "metadata": {
  "kernelspec": {
   "display_name": "Python 3",
   "language": "python",
   "name": "python3"
  },
  "language_info": {
   "codemirror_mode": {
    "name": "ipython",
    "version": 3
   },
   "file_extension": ".py",
   "mimetype": "text/x-python",
   "name": "python",
   "nbconvert_exporter": "python",
   "pygments_lexer": "ipython3",
   "version": "3.6.6"
  }
 },
 "nbformat": 4,
 "nbformat_minor": 5
}
