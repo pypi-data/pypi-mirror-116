{
 "cells": [
  {
   "cell_type": "markdown",
   "metadata": {},
   "source": [
    "# Heat Capacity of Cementite ($Fe_3C$)"
   ]
  },
  {
   "cell_type": "markdown",
   "metadata": {},
   "source": [
    "Bengt Hallstedt, Dejan Djurovic, Jörg von Appen, Richard Dronskowski, Alexey Dick, Fritz Körmann, Tilmann Hickel, Jörg Neugebauer, Thermodynamic properties of cementite, Calphad, Volume 34, Issue 1, March 2010, Pages 129-133, ISSN 0364-5916, http://dx.doi.org/10.1016/j.calphad.2010.01.004. (http://www.sciencedirect.com/science/article/pii/S0364591610000052)\n",
    "\n",
    "The TDB file used here differs slightly from the published TDB to ensure compatibility with pycalphad's TDB parser. All phases except cementite are omitted. The numerical results should be the same."
   ]
  },
  {
   "cell_type": "code",
   "execution_count": 1,
   "metadata": {
    "collapsed": true
   },
   "outputs": [],
   "source": [
    "TDB = \"\"\"\n",
    " ELEMENT C    GRAPHITE                   12.011     1054.0      5.7423 ! \n",
    " ELEMENT FE   BCC_A2                     55.847     4489.0     27.2797 ! \n",
    " TYPE_DEFINITION % SEQ * !\n",
    " TYPE_DEFINITION A GES AMEND_PHASE_DESCRIPTION @ MAGNETIC -3 0.28 !\n",
    " PHASE CEMENTITE_D011 %A 2 3 1 !\n",
    " CONSTITUENT CEMENTITE_D011 : FE : C : !\n",
    " PARAMETER  G(CEMENTITE_D011,FE:C;0) 0.01 +GFECEM; 6000 N !\n",
    " PARAMETER  TC(CEMENTITE_D011,FE:C;0) 0.01 485.00; 6000 N !\n",
    " PARAMETER  BMAGN(CEMENTITE_D011,FE:C;0) 0.01 1.008; 6000 N !\n",
    " FUNCTION GFECEM      0.01  +11369.937746-5.641259263*T-8.333E-6*T**4;\n",
    "        43.00  Y  +11622.647246-59.537709263*T+15.74232*T*LN(T)\n",
    "       -0.27565*T**2;\n",
    "       163.00  Y  -10195.860754+690.949887637*T-118.47637*T*LN(T)\n",
    "                  -0.0007*T**2+590527*T**(-1);\n",
    "      6000.00  N !\n",
    "\"\"\""
   ]
  },
  {
   "cell_type": "markdown",
   "metadata": {},
   "source": [
    "Do some initial setup, including reading the database."
   ]
  },
  {
   "cell_type": "code",
   "execution_count": 2,
   "metadata": {
    "collapsed": true
   },
   "outputs": [],
   "source": [
    "# Only needed in a Jupyter Notebook\n",
    "%matplotlib inline\n",
    "# Optional plot styling\n",
    "import matplotlib\n",
    "matplotlib.style.use('fivethirtyeight')"
   ]
  },
  {
   "cell_type": "code",
   "execution_count": 3,
   "metadata": {
    "collapsed": true
   },
   "outputs": [],
   "source": [
    "import matplotlib.pyplot as plt\n",
    "import numpy as np\n",
    "from pycalphad import Database, calculate\n",
    "\n",
    "db = Database(TDB)"
   ]
  },
  {
   "cell_type": "markdown",
   "metadata": {},
   "source": [
    "Compute the molar heat capacity at all temperatures from 1K to 2000K with a step size of 0.1K.\n",
    "\n",
    "We do this with the `calculate` routine instead of `equilibrium` because the cementite phase has zero internal degrees of freedom. Since there's nothing to minimize, we can do the computation faster with `calculate`."
   ]
  },
  {
   "cell_type": "code",
   "execution_count": 4,
   "metadata": {},
   "outputs": [],
   "source": [
    "result = calculate(db, ['FE', 'C'], 'CEMENTITE_D011', T=(1, 2000, 0.1), P=101325, N=1, output='heat_capacity')"
   ]
  },
  {
   "cell_type": "code",
   "execution_count": 5,
   "metadata": {},
   "outputs": [
    {
     "data": {
      "image/png": "[encoded data removed]",
      "text/plain": [
       "<Figure size 648x432 with 1 Axes>"
      ]
     },
     "metadata": {
      "needs_background": "light"
     },
     "output_type": "display_data"
    }
   ],
   "source": [
    "# Note: 4 moles of atoms per formula unit (Fe3C1). That's why we multiply times 4\n",
    "fig = plt.figure(figsize=(9,6))\n",
    "fig.gca().set_xlabel('Temperature (K)')\n",
    "fig.gca().set_ylabel('Isobaric Heat Capacity (J/mol-formula-K)')\n",
    "fig.gca().plot(result['T'], np.squeeze(4.0 * result['heat_capacity']))\n",
    "plt.show()"
   ]
  },
  {
   "cell_type": "code",
   "execution_count": null,
   "metadata": {
    "collapsed": true
   },
   "outputs": [],
   "source": []
  }
 ],
 "metadata": {
  "anaconda-cloud": {},
  "kernelspec": {
   "display_name": "Python 3",
   "language": "python",
   "name": "python3"
  },
  "language_info": {
   "codemirror_mode": {
    "name": "ipython",
    "version": 3
   },
   "file_extension": ".py",
   "mimetype": "text/x-python",
   "name": "python",
   "nbconvert_exporter": "python",
   "pygments_lexer": "ipython3",
   "version": "3.5.2"
  }
 },
 "nbformat": 4,
 "nbformat_minor": 1
}
