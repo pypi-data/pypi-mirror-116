{
 "cells": [
  {
   "cell_type": "code",
   "execution_count": 1,
   "id": "postal-enhancement",
   "metadata": {},
   "outputs": [],
   "source": [
    "import numpy as np"
   ]
  },
  {
   "cell_type": "code",
   "execution_count": 30,
   "id": "excess-stylus",
   "metadata": {},
   "outputs": [],
   "source": [
    "F1 = np.array([97., 99., 101., 115., 136., 142.])"
   ]
  },
  {
   "cell_type": "code",
   "execution_count": 31,
   "id": "german-crazy",
   "metadata": {},
   "outputs": [
    {
     "data": {
      "text/plain": [
       "0.15660223373031998"
      ]
     },
     "execution_count": 31,
     "metadata": {},
     "output_type": "execute_result"
    }
   ],
   "source": [
    "np.std(F1)/np.mean(F1)"
   ]
  },
  {
   "cell_type": "code",
   "execution_count": 16,
   "id": "lesser-permission",
   "metadata": {},
   "outputs": [],
   "source": [
    "F2 = np.array([220., 225., 230., 235., 240.])"
   ]
  },
  {
   "cell_type": "code",
   "execution_count": 20,
   "id": "cross-daisy",
   "metadata": {},
   "outputs": [
    {
     "data": {
      "text/plain": [
       "0.030743773095067286"
      ]
     },
     "execution_count": 20,
     "metadata": {},
     "output_type": "execute_result"
    }
   ],
   "source": [
    "np.std(F2)/np.mean(F2)"
   ]
  },
  {
   "cell_type": "code",
   "execution_count": 28,
   "id": "light-testing",
   "metadata": {},
   "outputs": [],
   "source": [
    "L = np.array([1., 2., 3., 4., 5., 5., 22])"
   ]
  },
  {
   "cell_type": "code",
   "execution_count": 29,
   "id": "soviet-region",
   "metadata": {},
   "outputs": [
    {
     "data": {
      "text/plain": [
       "6.0"
      ]
     },
     "execution_count": 29,
     "metadata": {},
     "output_type": "execute_result"
    }
   ],
   "source": [
    "L.mean()"
   ]
  },
  {
   "cell_type": "code",
   "execution_count": null,
   "id": "intense-roman",
   "metadata": {},
   "outputs": [],
   "source": []
  }
 ],
 "metadata": {
  "kernelspec": {
   "display_name": "Python 3",
   "language": "python",
   "name": "python3"
  },
  "language_info": {
   "codemirror_mode": {
    "name": "ipython",
    "version": 3
   },
   "file_extension": ".py",
   "mimetype": "text/x-python",
   "name": "python",
   "nbconvert_exporter": "python",
   "pygments_lexer": "ipython3",
   "version": "3.8.8"
  }
 },
 "nbformat": 4,
 "nbformat_minor": 5
}
