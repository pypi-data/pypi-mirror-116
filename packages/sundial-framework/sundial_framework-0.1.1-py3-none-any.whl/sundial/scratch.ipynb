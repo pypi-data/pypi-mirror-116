{
 "metadata": {
  "language_info": {
   "codemirror_mode": {
    "name": "ipython",
    "version": 3
   },
   "file_extension": ".py",
   "mimetype": "text/x-python",
   "name": "python",
   "nbconvert_exporter": "python",
   "pygments_lexer": "ipython3",
   "version": "3.8.5"
  },
  "orig_nbformat": 4,
  "kernelspec": {
   "name": "python3",
   "display_name": "Python 3.8.5 64-bit ('venv')"
  },
  "interpreter": {
   "hash": "916c869a7c4c95c08c36d1137a522782edeb3c9aecc05e7abcb127a1fbe3b839"
  }
 },
 "nbformat": 4,
 "nbformat_minor": 2,
 "cells": [
  {
   "cell_type": "code",
   "execution_count": 1,
   "metadata": {},
   "outputs": [],
   "source": [
    "from importlib import reload\n",
    "import pandas as pd\n",
    "import sundial\n",
    "import numpy as np"
   ]
  },
  {
   "cell_type": "code",
   "execution_count": 2,
   "metadata": {},
   "outputs": [
    {
     "output_type": "execute_result",
     "data": {
      "text/plain": [
       "<module 'sundial' from '/Users/gavin/dev/archimedes/fab/sundial/sundial/sundial.py'>"
      ]
     },
     "metadata": {},
     "execution_count": 2
    }
   ],
   "source": [
    "reload(sundial)"
   ]
  },
  {
   "cell_type": "code",
   "execution_count": 3,
   "metadata": {},
   "outputs": [],
   "source": [
    "def small_binner_data():\n",
    "    data = pd.Series([5, 2, 9, 5.5, 3.4, 9.2, 1.1, 0.2, 4.6, 2.3, 8.6, 3,7,5,6,9,2.2,5.5,3.3,8.76])\n",
    "    bin_edges = [1,2,4,6,8,10]\n",
    "    bin_right = [2,4,6,8,10]\n",
    "    bin_left = [0.2-sundial.BIN_TOL, 2, 4, 6, 8]\n",
    "    bin_mid = [(bin_left[i]+bin_right[i])/2 for i in range(len(bin_left))]\n",
    "    bin_dummies= np.array([[0, 0, 1, 0, 0],\n",
    "       [1, 0, 0, 0, 0],\n",
    "       [0, 0, 0, 0, 1],\n",
    "       [0, 0, 1, 0, 0],\n",
    "       [0, 1, 0, 0, 0],\n",
    "       [0, 0, 0, 0, 1],\n",
    "       [1, 0, 0, 0, 0],\n",
    "       [1, 0, 0, 0, 0],\n",
    "       [0, 0, 1, 0, 0],\n",
    "       [0, 1, 0, 0, 0],\n",
    "       [0, 0, 0, 0, 1],\n",
    "       [0, 1, 0, 0, 0],\n",
    "       [0, 0, 0, 1, 0],\n",
    "       [0, 0, 1, 0, 0],\n",
    "       [0, 0, 1, 0, 0],\n",
    "       [0, 0, 0, 0, 1],\n",
    "       [0, 1, 0, 0, 0],\n",
    "       [0, 0, 1, 0, 0],\n",
    "       [0, 1, 0, 0, 0],\n",
    "       [0, 0, 0, 0, 1]])\n",
    "    return {\"data\": data, \"bin_edges\": bin_edges, \"bin_right\": bin_right, \"bin_left\": bin_left, \"bin_mid\": bin_mid, \"bin_dummies\": bin_dummies}\n",
    "\n",
    "\n",
    "def small_binner_newdata():\n",
    "    data = [3,7,5,6.8,11,0.1]\n",
    "    dummies = np.array([[0, 1, 0, 0, 0],\n",
    "       [0, 0, 0, 1, 0],\n",
    "       [0, 0, 1, 0, 0],\n",
    "       [0, 0, 0, 1, 0],\n",
    "       [0, 0, 0, 0, 1],\n",
    "       [1, 0, 0, 0, 0]])\n",
    "    probs = np.array([[0.3, 0.2, 0.1, 0.15, 0.25],\n",
    "    [0.1, 0, 0, 0.4, 0.5],\n",
    "    [0.1,0.5,0.4,0,0]])\n",
    "    cum_probs = np.cumsum(probs,axis=1)    \n",
    "    return {\"data\": data, \"dummies\": dummies, \"probs\": probs, \"cum_probs\": cum_probs}\n",
    "\n",
    "\n",
    "def small_binner(small_binner_data):\n",
    "    return sundial.Binner(inclusive=True, bin_edges=small_binner_data[\"bin_edges\"], data=small_binner_data[\"data\"], name=\"small_binner\")"
   ]
  },
  {
   "cell_type": "code",
   "execution_count": 4,
   "metadata": {},
   "outputs": [
    {
     "output_type": "execute_result",
     "data": {
      "text/plain": [
       "array([[0.199, 1.3996666666666668, 4.0, 8.4, 10.0],\n",
       "       [0.199, 6.5, 8.0, 9.2, 10.0],\n",
       "       [0.199, 2.4000000000000004, 3.6, 5.0, 6.0]], dtype=object)"
      ]
     },
     "metadata": {},
     "execution_count": 4
    }
   ],
   "source": [
    "mybin=small_binner(small_binner_data())\n",
    "newdata=small_binner_newdata()\n",
    "mybin.calc_quantiles(newdata[\"probs\"], quantiles=[0,.2,.5,.8,1]).values"
   ]
  },
  {
   "cell_type": "code",
   "execution_count": null,
   "metadata": {},
   "outputs": [],
   "source": []
  }
 ]
}