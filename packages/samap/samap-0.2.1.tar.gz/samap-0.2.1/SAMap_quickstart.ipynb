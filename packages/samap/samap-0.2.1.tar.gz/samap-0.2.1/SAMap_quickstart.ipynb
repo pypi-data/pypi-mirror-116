{
 "cells": [
  {
   "cell_type": "markdown",
   "metadata": {},
   "source": [
    "# Run BLAST"
   ]
  },
  {
   "cell_type": "code",
   "execution_count": null,
   "metadata": {},
   "outputs": [],
   "source": [
    "file1 = 'path/to/transcriptome1.fasta'\n",
    "type1 = 'nucl' #or 'prot' if file1 is a proteome\n",
    "id1 = 'hu' #2-character ID (e.g. 'hu' for human)\n",
    "\n",
    "file2 = 'path/to/transcriptome2.fasta'\n",
    "type2 = 'nucl'\n",
    "id2 = 'mo' #2-character ID (e.g. 'mo' for mouse)\n",
    "!bash map_genes.sh --tr1 {file1} --t1 {type1} --n1 {id1} --tr2 {file2} --t2 {type2} --n2 {id2}"
   ]
  },
  {
   "cell_type": "markdown",
   "metadata": {},
   "source": [
    "# Run SAMap"
   ]
  },
  {
   "cell_type": "code",
   "execution_count": 5,
   "metadata": {},
   "outputs": [],
   "source": [
    "from samap.mapping import SAMAP\n",
    "from samap.analysis import get_mapping_scores, GenePairFinder, sankey_plot\n",
    "from samalg import SAM"
   ]
  },
  {
   "cell_type": "markdown",
   "metadata": {},
   "source": [
    "SAMap accepts file paths to unprocessed, raw `.h5ad` files. Alternatively, if you already have a processed `SAM` object, you can load them in directly.\n",
    "\n",
    "\n",
    "Prior to running SAMap, you should have run `map_genes.sh`, which expects 2-character identifiers describing each species. For example, human and mouse might get `hu` and `mo` identifiers, respectively. `map_genes.sh` generates a `maps/` directory with the transcriptome mapping BLAST results deposited. The input species IDs and path to the `maps/` directory should be input into SAMap."
   ]
  },
  {
   "cell_type": "code",
   "execution_count": 18,
   "metadata": {},
   "outputs": [],
   "source": [
    "id1 = 'mu'\n",
    "id2 = 'dp'"
   ]
  },
  {
   "cell_type": "code",
   "execution_count": 19,
   "metadata": {},
   "outputs": [],
   "source": [
    "\"\"\"\n",
    "# passing in file names (SAMap will process the data with SAM and save the resulting objects to two `.h5ad` files.)\n",
    "# these objects are assumed to be unprocessed\n",
    "fn1 = 'example_data/planarian.h5ad' #processed data will be automatically saved to `example_data/planarian_pr.h5ad`\n",
    "fn2 = 'example_data/schistosome.h5ad' #processed data will be automatically saved to `example_data/schistosome_pr.h5ad`\n",
    "# runs SAMAP \n",
    "sm = SAMAP(fn1,fn2,id1,id2,f_maps = 'maps/')\n",
    "samap = sm.run()\n",
    "#\"\"\"\n",
    "\n",
    "#\"\"\"\n",
    "# passing in already-processed SAM objects\n",
    "fn1 = '2020-12-07_mouse_kidney (2).h5ad'\n",
    "fn2 = '2021-03-28_fly_MT_NC.h5ad'\n",
    "sam1=SAM()\n",
    "sam2=SAM()\n",
    "sam1.load_data(fn1)\n",
    "sam2.load_data(fn2)"
   ]
  },
  {
   "cell_type": "code",
   "execution_count": 25,
   "metadata": {},
   "outputs": [
    {
     "name": "stdout",
     "output_type": "stream",
     "text": [
      "RUNNING SAM\n",
      "Iteration: 0, Convergence: 1.0\n",
      "Computing means and variances of genes.\n",
      "Iteration: 1, Convergence: 0.7896062058996485\n",
      "Iteration: 2, Convergence: 0.011452742128482574\n",
      "Computing the UMAP embedding...\n",
      "Elapsed time: 48.64499282836914 seconds\n",
      "RUNNING SAM\n",
      "Iteration: 0, Convergence: 1.0\n",
      "Computing means and variances of genes.\n",
      "Iteration: 1, Convergence: 0.9514489350870313\n",
      "Computing the UMAP embedding...\n",
      "Elapsed time: 23.618821144104004 seconds\n"
     ]
    }
   ],
   "source": [
    "sam1.run(weight_mode='combined')\n",
    "sam2.run(weight_mode='combined')"
   ]
  },
  {
   "cell_type": "code",
   "execution_count": 26,
   "metadata": {},
   "outputs": [
    {
     "name": "stdout",
     "output_type": "stream",
     "text": [
      "Not updating the manifold...\n",
      "Not updating the manifold...\n"
     ]
    }
   ],
   "source": [
    "sam1.leiden_clustering(res=3)\n",
    "sam2.leiden_clustering(res=3)\n",
    "from samap.mapping import prepare_SAMap_loadings\n",
    "prepare_SAMap_loadings(sam1)\n",
    "prepare_SAMap_loadings(sam2)\n",
    "sam1.save_anndata()\n",
    "sam2.save_anndata()"
   ]
  },
  {
   "cell_type": "code",
   "execution_count": 35,
   "metadata": {},
   "outputs": [
    {
     "name": "stdout",
     "output_type": "stream",
     "text": [
      "Preparing data 1 for SAMap.\n",
      "Preparing data 2 for SAMap.\n",
      "11775 `mu` genes and 9296 `dp` gene symbols match between the datasets and the BLAST graph.\n",
      "Stitching SAM 0 and SAM 1\n",
      "Found 126258 gene pairs\n",
      "Recomputing PC projections with gene pair subsets...\n",
      "Running hsnwlib\n",
      "Using leiden_clusters and leiden_clusters cluster labels.\n",
      "Out-neighbor smart expansion 1\n",
      "Out-neighbor smart expansion 2\n",
      "Indegree coarsening\n",
      "0/1 (0, 12166) True\n",
      "Scaling edge weights by expression correlations.\n",
      "Concatenating SAM objects...\n",
      "ITERATION: 0 \n",
      "Average alignment score (A.S.):  0.26381244025168105 \n",
      "Max A.S. improvement: 0.20763392042613651 \n",
      "Min A.S. improvement: 0.0\n",
      "Calculating gene-gene correlations in the homology graph...\n",
      "Stitching SAM 0 and SAM 1\n",
      "Found 54805 gene pairs\n",
      "Recomputing PC projections with gene pair subsets...\n",
      "Running hsnwlib\n",
      "Using leiden_clusters and leiden_clusters cluster labels.\n",
      "Out-neighbor smart expansion 1\n",
      "Out-neighbor smart expansion 2\n",
      "Indegree coarsening\n",
      "0/1 (0, 12166) True\n",
      "Scaling edge weights by expression correlations.\n",
      "Concatenating SAM objects...\n",
      "ITERATION: 1 \n",
      "Average alignment score (A.S.):  0.3956879185387333 \n",
      "Max A.S. improvement: 0.28108253404147404 \n",
      "Min A.S. improvement: -0.06895488285611011\n",
      "Calculating gene-gene correlations in the homology graph...\n",
      "Stitching SAM 0 and SAM 1\n",
      "Found 51437 gene pairs\n",
      "Recomputing PC projections with gene pair subsets...\n",
      "Running hsnwlib\n",
      "Using leiden_clusters and leiden_clusters cluster labels.\n",
      "Out-neighbor smart expansion 1\n",
      "Out-neighbor smart expansion 2\n",
      "Indegree coarsening\n",
      "0/1 (0, 12166) True\n",
      "Scaling edge weights by expression correlations.\n",
      "Concatenating SAM objects...\n",
      "ITERATION: 2 \n",
      "Average alignment score (A.S.):  0.40896184217281156 \n",
      "Max A.S. improvement: 0.09640526301018718 \n",
      "Min A.S. improvement: -0.11607727297672148\n",
      "Alignment score --- 0.40896184217281156\n",
      "Running UMAP on the stitched manifolds.\n",
      "Elapsed time: 4.540454371770223 minutes.\n"
     ]
    }
   ],
   "source": [
    "sm1 = SAMAP(sam1,sam2,id1,id2,f_maps = 'maps/')\n",
    "samap = sm1.run(scale_edges_by_corr=True)\n",
    "#\"\"\""
   ]
  },
  {
   "cell_type": "code",
   "execution_count": 36,
   "metadata": {},
   "outputs": [
    {
     "name": "stdout",
     "output_type": "stream",
     "text": [
      "Preparing data 1 for SAMap.\n",
      "Preparing data 2 for SAMap.\n",
      "9296 `dp` genes and 11775 `mu` gene symbols match between the datasets and the BLAST graph.\n",
      "Stitching SAM 0 and SAM 1\n",
      "Found 126258 gene pairs\n",
      "Recomputing PC projections with gene pair subsets...\n",
      "Running hsnwlib\n",
      "Using leiden_clusters and leiden_clusters cluster labels.\n",
      "Out-neighbor smart expansion 1\n",
      "Out-neighbor smart expansion 2\n",
      "Indegree coarsening\n",
      "0/1 (0, 12166) False\n",
      "Scaling edge weights by expression correlations.\n",
      "Concatenating SAM objects...\n",
      "ITERATION: 0 \n",
      "Average alignment score (A.S.):  0.26425182208934955 \n",
      "Max A.S. improvement: 0.20785645055399948 \n",
      "Min A.S. improvement: 0.0\n",
      "Calculating gene-gene correlations in the homology graph...\n",
      "Stitching SAM 0 and SAM 1\n",
      "Found 54665 gene pairs\n",
      "Recomputing PC projections with gene pair subsets...\n",
      "Running hsnwlib\n",
      "Using leiden_clusters and leiden_clusters cluster labels.\n",
      "Out-neighbor smart expansion 1\n",
      "Out-neighbor smart expansion 2\n",
      "Indegree coarsening\n",
      "0/1 (0, 12166) False\n",
      "Scaling edge weights by expression correlations.\n",
      "Concatenating SAM objects...\n",
      "ITERATION: 1 \n",
      "Average alignment score (A.S.):  0.39553346795352234 \n",
      "Max A.S. improvement: 0.28414176293685695 \n",
      "Min A.S. improvement: -0.07101810694662893\n",
      "Calculating gene-gene correlations in the homology graph...\n",
      "Stitching SAM 0 and SAM 1\n",
      "Found 51752 gene pairs\n",
      "Recomputing PC projections with gene pair subsets...\n",
      "Running hsnwlib\n",
      "Using leiden_clusters and leiden_clusters cluster labels.\n",
      "Out-neighbor smart expansion 1\n",
      "Out-neighbor smart expansion 2\n",
      "Indegree coarsening\n",
      "0/1 (0, 12166) False\n",
      "Scaling edge weights by expression correlations.\n",
      "Concatenating SAM objects...\n",
      "ITERATION: 2 \n",
      "Average alignment score (A.S.):  0.40339074419984944 \n",
      "Max A.S. improvement: 0.12501769654204503 \n",
      "Min A.S. improvement: -0.12150830071408003\n",
      "Alignment score --- 0.40339074419984944\n",
      "Running UMAP on the stitched manifolds.\n",
      "Elapsed time: 4.524371000130971 minutes.\n"
     ]
    }
   ],
   "source": [
    "sm2 = SAMAP(sam2,sam1,id2,id1,f_maps = 'maps/')\n",
    "samap = sm2.run(scale_edges_by_corr=True)\n",
    "#\"\"\""
   ]
  },
  {
   "cell_type": "code",
   "execution_count": 39,
   "metadata": {},
   "outputs": [],
   "source": [
    "M1 = get_mapping_scores(sm1,'cell_types','cell_types')[-1]\n",
    "M2 = get_mapping_scores(sm2,'cell_types','cell_types')[-1]"
   ]
  },
  {
   "cell_type": "code",
   "execution_count": 45,
   "metadata": {},
   "outputs": [
    {
     "data": {
      "text/plain": [
       "(array([1, 1]), array([5, 6]))"
      ]
     },
     "execution_count": 45,
     "metadata": {},
     "output_type": "execute_result"
    }
   ],
   "source": [
    "np.where(np.abs(M1-M2.T).values>0.08)"
   ]
  },
  {
   "cell_type": "code",
   "execution_count": 43,
   "metadata": {},
   "outputs": [
    {
     "data": {
      "text/plain": [
       "'dp_adult pericardial nephrocytes'"
      ]
     },
     "execution_count": 43,
     "metadata": {},
     "output_type": "execute_result"
    }
   ],
   "source": [
    "M1.index[1]"
   ]
  },
  {
   "cell_type": "code",
   "execution_count": 46,
   "metadata": {},
   "outputs": [
    {
     "data": {
      "text/plain": [
       "'mu_distal straight tubule of inner stripe of outer medulla (syn: thick ascending limb of LOH)'"
      ]
     },
     "execution_count": 46,
     "metadata": {},
     "output_type": "execute_result"
    }
   ],
   "source": [
    "M1.columns[5]"
   ]
  },
  {
   "cell_type": "code",
   "execution_count": 41,
   "metadata": {},
   "outputs": [
    {
     "data": {
      "text/plain": [
       "array([0.00000000e+00, 0.00000000e+00, 0.00000000e+00, 0.00000000e+00,\n",
       "       0.00000000e+00, 0.00000000e+00, 0.00000000e+00, 0.00000000e+00,\n",
       "       0.00000000e+00, 0.00000000e+00, 0.00000000e+00, 0.00000000e+00,\n",
       "       0.00000000e+00, 0.00000000e+00, 0.00000000e+00, 0.00000000e+00,\n",
       "       0.00000000e+00, 0.00000000e+00, 0.00000000e+00, 0.00000000e+00,\n",
       "       0.00000000e+00, 0.00000000e+00, 0.00000000e+00, 0.00000000e+00,\n",
       "       0.00000000e+00, 0.00000000e+00, 0.00000000e+00, 0.00000000e+00,\n",
       "       0.00000000e+00, 0.00000000e+00, 0.00000000e+00, 0.00000000e+00,\n",
       "       0.00000000e+00, 0.00000000e+00, 0.00000000e+00, 0.00000000e+00,\n",
       "       0.00000000e+00, 0.00000000e+00, 0.00000000e+00, 0.00000000e+00,\n",
       "       0.00000000e+00, 0.00000000e+00, 0.00000000e+00, 0.00000000e+00,\n",
       "       0.00000000e+00, 0.00000000e+00, 0.00000000e+00, 0.00000000e+00,\n",
       "       0.00000000e+00, 0.00000000e+00, 0.00000000e+00, 0.00000000e+00,\n",
       "       0.00000000e+00, 0.00000000e+00, 0.00000000e+00, 0.00000000e+00,\n",
       "       0.00000000e+00, 0.00000000e+00, 0.00000000e+00, 0.00000000e+00,\n",
       "       0.00000000e+00, 0.00000000e+00, 0.00000000e+00, 0.00000000e+00,\n",
       "       0.00000000e+00, 0.00000000e+00, 0.00000000e+00, 0.00000000e+00,\n",
       "       0.00000000e+00, 0.00000000e+00, 0.00000000e+00, 0.00000000e+00,\n",
       "       0.00000000e+00, 0.00000000e+00, 0.00000000e+00, 0.00000000e+00,\n",
       "       0.00000000e+00, 0.00000000e+00, 0.00000000e+00, 0.00000000e+00,\n",
       "       0.00000000e+00, 0.00000000e+00, 0.00000000e+00, 0.00000000e+00,\n",
       "       0.00000000e+00, 0.00000000e+00, 0.00000000e+00, 0.00000000e+00,\n",
       "       0.00000000e+00, 0.00000000e+00, 0.00000000e+00, 0.00000000e+00,\n",
       "       0.00000000e+00, 0.00000000e+00, 0.00000000e+00, 0.00000000e+00,\n",
       "       0.00000000e+00, 0.00000000e+00, 0.00000000e+00, 0.00000000e+00,\n",
       "       0.00000000e+00, 0.00000000e+00, 0.00000000e+00, 0.00000000e+00,\n",
       "       0.00000000e+00, 0.00000000e+00, 0.00000000e+00, 0.00000000e+00,\n",
       "       0.00000000e+00, 0.00000000e+00, 0.00000000e+00, 0.00000000e+00,\n",
       "       0.00000000e+00, 0.00000000e+00, 0.00000000e+00, 0.00000000e+00,\n",
       "       0.00000000e+00, 0.00000000e+00, 0.00000000e+00, 0.00000000e+00,\n",
       "       0.00000000e+00, 0.00000000e+00, 0.00000000e+00, 0.00000000e+00,\n",
       "       0.00000000e+00, 0.00000000e+00, 0.00000000e+00, 0.00000000e+00,\n",
       "       0.00000000e+00, 0.00000000e+00, 0.00000000e+00, 0.00000000e+00,\n",
       "       0.00000000e+00, 0.00000000e+00, 0.00000000e+00, 0.00000000e+00,\n",
       "       0.00000000e+00, 0.00000000e+00, 0.00000000e+00, 1.09414430e-08,\n",
       "       3.70918766e-08, 1.84719862e-07, 3.24871920e-07, 5.31039190e-07,\n",
       "       6.46506177e-07, 6.70196016e-07, 7.34223114e-07, 7.47386842e-07,\n",
       "       1.05371574e-06, 1.11104848e-06, 1.12295268e-06, 1.30456288e-06,\n",
       "       2.05738817e-06, 2.25995522e-06, 2.29900674e-06, 2.77968681e-06,\n",
       "       2.90003860e-06, 2.95838515e-06, 3.17557574e-06, 4.81064240e-06,\n",
       "       4.91837936e-06, 5.29352465e-06, 6.40257253e-06, 6.86811932e-06,\n",
       "       7.34396944e-06, 7.64090398e-06, 8.50437547e-06, 1.06145871e-05,\n",
       "       1.25769502e-05, 1.44170229e-05, 1.45169458e-05, 1.53061544e-05,\n",
       "       1.56491755e-05, 1.60944751e-05, 1.65789597e-05, 1.66968339e-05,\n",
       "       1.70094801e-05, 1.77947180e-05, 1.80167741e-05, 1.87440022e-05,\n",
       "       1.89370638e-05, 2.02750002e-05, 2.05585269e-05, 2.06104701e-05,\n",
       "       2.11600354e-05, 2.51647655e-05, 2.53818742e-05, 2.56862989e-05,\n",
       "       2.78144784e-05, 3.02105632e-05, 3.02779867e-05, 3.39505902e-05,\n",
       "       3.41887008e-05, 3.78161010e-05, 3.87329313e-05, 3.88783163e-05,\n",
       "       4.15939838e-05, 4.38333419e-05, 4.45438876e-05, 4.69689821e-05,\n",
       "       4.71782974e-05, 5.03691871e-05, 5.95182973e-05, 5.98573462e-05,\n",
       "       6.22728607e-05, 6.37752306e-05, 6.54862680e-05, 6.60656907e-05,\n",
       "       7.19973417e-05, 7.23950411e-05, 7.38625856e-05, 8.13639465e-05,\n",
       "       8.23123502e-05, 8.32812939e-05, 8.43498480e-05, 8.44370341e-05,\n",
       "       8.48460439e-05, 8.69907304e-05, 8.92991365e-05, 9.17388688e-05,\n",
       "       9.19019597e-05, 9.38584603e-05, 9.57164119e-05, 1.01345785e-04,\n",
       "       1.02879621e-04, 1.19365835e-04, 1.25021853e-04, 1.34540013e-04,\n",
       "       1.38001488e-04, 1.40478020e-04, 1.53741219e-04, 1.65523307e-04,\n",
       "       1.71956770e-04, 1.81255256e-04, 1.84254170e-04, 1.91167489e-04,\n",
       "       1.91886553e-04, 1.93767398e-04, 2.01801035e-04, 2.03647562e-04,\n",
       "       2.06513350e-04, 2.36612623e-04, 2.41430574e-04, 2.47566440e-04,\n",
       "       2.58781518e-04, 2.81024649e-04, 2.84142965e-04, 2.96877242e-04,\n",
       "       3.04040492e-04, 3.08282180e-04, 3.10698446e-04, 3.18438903e-04,\n",
       "       3.20463089e-04, 3.25893670e-04, 3.36026410e-04, 3.39667591e-04,\n",
       "       3.54492060e-04, 3.68989418e-04, 3.72585549e-04, 3.75399992e-04,\n",
       "       3.75700301e-04, 3.81268979e-04, 3.87264357e-04, 4.21848451e-04,\n",
       "       4.44166347e-04, 4.85373676e-04, 5.05144432e-04, 5.12549887e-04,\n",
       "       5.52405570e-04, 5.54780213e-04, 5.89530312e-04, 6.39499398e-04,\n",
       "       6.69864709e-04, 7.39628817e-04, 7.66229059e-04, 7.68658781e-04,\n",
       "       7.75033227e-04, 8.07594341e-04, 8.13873877e-04, 8.41019748e-04,\n",
       "       8.45470827e-04, 8.70696519e-04, 9.25671037e-04, 9.61164295e-04,\n",
       "       9.63775230e-04, 1.02953412e-03, 1.03334711e-03, 1.09372558e-03,\n",
       "       1.21476110e-03, 1.25769767e-03, 1.32756631e-03, 1.36990078e-03,\n",
       "       1.41334513e-03, 1.44002576e-03, 1.45915656e-03, 1.55349164e-03,\n",
       "       1.60108246e-03, 1.65361279e-03, 1.85409124e-03, 2.03260141e-03,\n",
       "       2.10605807e-03, 2.20227012e-03, 2.40461655e-03, 2.59442720e-03,\n",
       "       2.59847169e-03, 2.94736858e-03, 3.02112415e-03, 3.03115828e-03,\n",
       "       3.04141331e-03, 3.05654993e-03, 3.13739084e-03, 3.38627168e-03,\n",
       "       3.49258225e-03, 3.56966215e-03, 3.61635723e-03, 3.77650059e-03,\n",
       "       4.00305267e-03, 4.02299229e-03, 4.18644901e-03, 4.38246164e-03,\n",
       "       4.40351450e-03, 4.60188621e-03, 4.96468252e-03, 5.01969825e-03,\n",
       "       5.09562485e-03, 5.20567076e-03, 5.30217230e-03, 5.30701201e-03,\n",
       "       5.82789367e-03, 6.34249143e-03, 6.36379340e-03, 6.45275258e-03,\n",
       "       7.26344804e-03, 7.65549049e-03, 8.49678736e-03, 9.97411779e-03,\n",
       "       1.09484724e-02, 1.11999413e-02, 1.21003464e-02, 1.42130699e-02,\n",
       "       1.44297947e-02, 1.80452789e-02, 1.90941193e-02, 2.27178391e-02,\n",
       "       2.40600000e-02, 2.45470696e-02, 2.49480152e-02, 2.56194830e-02,\n",
       "       3.12411199e-02, 4.33043047e-02, 8.26995808e-02, 1.73997203e-01])"
      ]
     },
     "execution_count": 41,
     "metadata": {},
     "output_type": "execute_result"
    }
   ],
   "source": [
    "np.sort(np.abs(M1-M2.T).values.flatten())"
   ]
  },
  {
   "cell_type": "code",
   "execution_count": null,
   "metadata": {},
   "outputs": [],
   "source": []
  },
  {
   "cell_type": "code",
   "execution_count": null,
   "metadata": {},
   "outputs": [],
   "source": []
  },
  {
   "cell_type": "markdown",
   "metadata": {},
   "source": [
    "To calculate alignment scores between cell types, we can use `get_mapping_scores`. This function will use the combined SAM object produced by SAMap to calculate alignment scores between cell types in the provided cell type annotation columns of `sam.adata.obs`. If no cell type annotations exist, the leiden clusters generated by SAM can be used (`k1=k2='leiden_clusters'`).\n",
    "\n",
    "The resulting tables show the highest-scoring alignment scores for each cell type in organism 1 (`D1`) and organism 2 (`D2`), respectively."
   ]
  },
  {
   "cell_type": "markdown",
   "metadata": {},
   "source": [
    "The `n_top` parameter can be used to identify strongly-mapping subpopulations between clusters. If `n_top=0`, the alignment score will be averaged over all cells between two clusters. Otherwise, the alignment score will be averaged over the top `n_top` cells.\n",
    "\n",
    "For example, let's say there are 100 / 1000 cells in Cluster A that maps to a Cluster B in the other species. On average, the mapping score between cluster A and B will be small, because there are only a few cells in cluster A that map to cluster B. If we set `n_top` to 100, then the alignment score between A and B will be averaged over the 100 highest-scoring cells. As a result, the mapping score between A and B will be large.\n",
    "\n",
    "By default, `n_top=0`."
   ]
  },
  {
   "cell_type": "code",
   "execution_count": null,
   "metadata": {},
   "outputs": [],
   "source": [
    "k1 = 'cluster' #cell types annotation key in `sam1.adata.obs`\n",
    "k2 = 'tissue' #cell types annotation key in `sam2.adata.obs`\n",
    "D1,D2,MappingTable = get_mapping_scores(sm,k1,k2, n_top = 0)"
   ]
  },
  {
   "cell_type": "code",
   "execution_count": null,
   "metadata": {},
   "outputs": [],
   "source": [
    "D1.head()"
   ]
  },
  {
   "cell_type": "code",
   "execution_count": null,
   "metadata": {},
   "outputs": [],
   "source": [
    "D2.head()"
   ]
  },
  {
   "cell_type": "code",
   "execution_count": null,
   "metadata": {},
   "outputs": [],
   "source": [
    "MappingTable.head()"
   ]
  },
  {
   "cell_type": "markdown",
   "metadata": {},
   "source": [
    "SAMap provides a class to find gene pairs enriched in different cell type pairs. The method entails finding gene pairs that contribute positively to the cross-species correlation between cell types and are differentially expressed in their respective mapped cell types."
   ]
  },
  {
   "cell_type": "code",
   "execution_count": null,
   "metadata": {},
   "outputs": [],
   "source": [
    "gpf = GenePairFinder(sm,k1=k1,k2=k2)"
   ]
  },
  {
   "cell_type": "markdown",
   "metadata": {},
   "source": [
    "`gpf.find_genes` can now be used to find gene pairs enriched in a cell type mapping."
   ]
  },
  {
   "cell_type": "code",
   "execution_count": null,
   "metadata": {},
   "outputs": [],
   "source": [
    "n1 = 'Neoblast: 0' #cell type ID from organism 1 (must be present in `sam1.adata.obs[k1]`)\n",
    "n2 = 'Neoblast' #cell type ID from organism 2 (must be present in `sam2.adata.obs[k1]`)\n",
    "Gp,G1,G2 = gpf.find_genes(n1,n2)\n",
    "#Gp are the gene pairs, G1 are the genes from organism 1, G2 are the genes from organism 2"
   ]
  },
  {
   "cell_type": "code",
   "execution_count": null,
   "metadata": {},
   "outputs": [],
   "source": [
    "Gp,G1,G2"
   ]
  },
  {
   "cell_type": "markdown",
   "metadata": {},
   "source": [
    "To get a table of enriched gene pairs from all cell type mappings that have an alignment score above some threshold (`thr`), you can use:"
   ]
  },
  {
   "cell_type": "code",
   "execution_count": null,
   "metadata": {},
   "outputs": [],
   "source": [
    "gene_pairs = gpf.find_all(thr=0.1)"
   ]
  },
  {
   "cell_type": "code",
   "execution_count": null,
   "metadata": {},
   "outputs": [],
   "source": [
    "gene_pairs.head()"
   ]
  },
  {
   "cell_type": "markdown",
   "metadata": {},
   "source": [
    "# Saving/Loading SAMap"
   ]
  },
  {
   "cell_type": "code",
   "execution_count": null,
   "metadata": {},
   "outputs": [],
   "source": [
    "from samap.utils import save_samap, load_samap\n",
    "# save to a .pkl file\n",
    "save_samap(sm,'path/to/file') #including the file ending (.pkl) is optional"
   ]
  },
  {
   "cell_type": "code",
   "execution_count": null,
   "metadata": {},
   "outputs": [],
   "source": [
    "# load\n",
    "sm = load_samap('path/to/file') #including the file ending (.pkl) is optional"
   ]
  },
  {
   "cell_type": "markdown",
   "metadata": {},
   "source": [
    "# Visualizing SAMap results"
   ]
  },
  {
   "cell_type": "markdown",
   "metadata": {},
   "source": [
    "Launching an interactive GUI (requires SAMGUI, see the README instructions in the [SAM](https://github.com/atarashansky/self-assembling-manifold) github repo):"
   ]
  },
  {
   "cell_type": "code",
   "execution_count": null,
   "metadata": {},
   "outputs": [],
   "source": [
    "sm.gui()"
   ]
  },
  {
   "cell_type": "markdown",
   "metadata": {},
   "source": [
    "To launch a similar interactive GUI with both species overlaid in one tab, run:"
   ]
  },
  {
   "cell_type": "code",
   "execution_count": null,
   "metadata": {},
   "outputs": [],
   "source": [
    "sm.samap.gui()"
   ]
  },
  {
   "cell_type": "markdown",
   "metadata": {},
   "source": [
    "To create a sankey plot, use `samap.analysis.sankey_plot`. This requires `holoviews` to be installed (`pip install holoviews`). It should already be installed if you're using the Docker image."
   ]
  },
  {
   "cell_type": "code",
   "execution_count": null,
   "metadata": {},
   "outputs": [],
   "source": [
    "k1 = 'cluster' #cell types annotation key in `sam1.adata.obs`\n",
    "k2 = 'tissue' #cell types annotation key in `sam2.adata.obs`\n",
    "D1,D2,MappingTable = get_mapping_scores(sm,k1,k2, n_top = 0)"
   ]
  },
  {
   "cell_type": "code",
   "execution_count": null,
   "metadata": {},
   "outputs": [],
   "source": [
    "sankey_plot(MappingTable)"
   ]
  },
  {
   "cell_type": "markdown",
   "metadata": {},
   "source": [
    "# ADVANCED:"
   ]
  },
  {
   "cell_type": "markdown",
   "metadata": {},
   "source": [
    "# Functional Enrichment Analysis\n",
    "\n",
    "We can use the `samap.mapping.FunctionalEnrichment` class to perform functional enrichment analysis of gene pairs enriched in each cell type. The functional annotations can be GO terms, KOG terms, etc.\n",
    "\n",
    "We can get functional annotations for our data by mapping the transcriptome to the Eggnog database. Below, we clone the eggnog repository from github, download the eggnog database, and run the mapping."
   ]
  },
  {
   "cell_type": "code",
   "execution_count": null,
   "metadata": {},
   "outputs": [],
   "source": [
    "# run the below line if you are not running the SAMap Docker image.\n",
    "#!pip install git+https://github.com/eggnogdb/eggnog-mapper.git\n",
    "# clone the repo (this only needs to be done once)\n",
    "!git clone https://github.com/eggnogdb/eggnog-mapper.git # put in dockerfile\n",
    "# download the database (this only needs to be done once)\n",
    "!eggnog-mapper/download_eggnog_data.py -y"
   ]
  },
  {
   "cell_type": "markdown",
   "metadata": {},
   "source": [
    "`transcriptome1.fa` should be the path to your first transcriptome fasta file.\\\n",
    "`transcriptome2.fa` should be the path to your second transcriptome fasta file, and so on.\\\n",
    "`output_name` is the name of the output file."
   ]
  },
  {
   "cell_type": "code",
   "execution_count": null,
   "metadata": {},
   "outputs": [],
   "source": [
    "# run EGGNOG\n",
    "!eggnog-mapper/emapper.py -m diamond -i transcriptome1.fa --cpu 0 --itype CDS -o output_name1\n",
    "!eggnog-mapper/emapper.py -m diamond -i transcriptome2.fa --cpu 0 --itype CDS -o output_name2"
   ]
  },
  {
   "cell_type": "markdown",
   "metadata": {},
   "source": [
    "The above command should eventually output an `output_name1.emapper.annotations` table.\\\n",
    "This table has many columns, including a collection of GO terms for each transcript and KOG functional categories. In the below example, I perform functional enrichment analysis of the KOG categories (`best_OG_cat` column in the EGGNOG tables).\n",
    "\n",
    "`FunctionalEnrichment.calculate_enrichment()` returns three tables. The rows are cell types, and the columns are functional categories. `enrichment_scores` provides the `-log10` statistical significance p-values. High values indicate high enrichment of gene pairs with that functional category. `num_enriched_genes` is the number of genes with a particular functional annotation enriched in a particular cell type mapping. `enriched_genes` provides a `;`-separated list of the genes."
   ]
  },
  {
   "cell_type": "code",
   "execution_count": null,
   "metadata": {},
   "outputs": [],
   "source": [
    "from samap.analysis import FunctionalEnrichment\n",
    "# load eggnog tables\n",
    "A = pd.read_csv('output_name1.emapper.annotations',sep='\\t',index_col=0)\n",
    "B = pd.read_csv('output_name2.emapper.annotations',sep='\\t',index_col=0)\n",
    "# load SAMAP\n",
    "sm = load_samap('samap_object.pkl')\n",
    "# do functional enrichment\n",
    "fe = FunctionalEnrichment(sm,[A,B],'best_OG_cat',['leiden_clusters','leiden_clusters'])\n",
    "enrichment_scores,num_enriched_genes,enriched_genes = fe.calculate_enrichment(verbose=True)"
   ]
  },
  {
   "cell_type": "markdown",
   "metadata": {},
   "source": [
    "See below for a description of all inputs to `FunctionalEnrichment`:\n",
    "\n",
    "```\n",
    "FunctionalEnrichment(sms, DFS, col_key, keys, delimiter = '', align_thr = 0.1, limit_reference = False, n_top = 0)\n",
    "\n",
    "Parameters\n",
    "----------\n",
    "sms - list or tuple of SAMAP objects\n",
    "\n",
    "DFS - list or tuple of pandas.DataFrame functional annotations (one per species present in the input SAMAP objects)\n",
    "\n",
    "col_key - str\n",
    "    The column name with functional annotations in the annotation DataFrames.\n",
    "\n",
    "keys - list or tuple of column keys from `.adata.obs` DataFrames (one per species present in the input SAMAP objects)\n",
    "    Cell type mappings will be computed between these annotation vectors.\n",
    "\n",
    "delimiter - str, optional, default ''\n",
    "    Some transcripts may have multiple functional annotations (e.g. GO terms or KOG terms) separated by\n",
    "    a delimiter. For KOG terms, this is typically no delimiter (''). For GO terms, this is usually a comma\n",
    "    (',').\n",
    "\n",
    "align_thr - float, optional, default 0.1\n",
    "    The alignment score below which to filter out cell type mappings\n",
    "\n",
    "limit_reference - bool, optional, default False\n",
    "    If True, limits the background set of genes to include only those that are enriched in any cell type mappings\n",
    "    If False, the background set of genes will include all genes present in the input dataframes.\n",
    "\n",
    "n_top: int, optional, default 0\n",
    "    If `n_top` is 0, average the alignment scores for all cells in a pair of clusters.\n",
    "    Otherwise, average the alignment scores of the top `n_top` cells in a pair of clusters.\n",
    "    Set this to non-zero if you suspect there to be subpopulations of your cell types mapping\n",
    "    to distinct cell types in the other species.\n",
    "\n",
    "\n",
    "```"
   ]
  },
  {
   "cell_type": "markdown",
   "metadata": {},
   "source": [
    "Enrichment scores can be plotted using `fe.plot_enrichment()`:\n",
    "\n",
    "```\n",
    "FunctionalEnrichment.plot_enrichment(self,cell_types = [], pval_thr=2.0,msize = 50)\n",
    "\n",
    "Create a plot summarizing the functional enrichment analysis.\n",
    "\n",
    "Parameters\n",
    "----------\n",
    "cell_types - list, default []\n",
    "    A list of cell types for which enrichment scores will be plotted. If empty (default),\n",
    "    all cell types will be plotted.\n",
    "\n",
    "pval_thr - float, default 2.0\n",
    "    -log10 p-values < 2.0 will be filtered from the plot.\n",
    "\n",
    "msize - float, default 50\n",
    "    The marker size in pixels for the dot plot.\n",
    "\n",
    "Returns\n",
    "-------\n",
    "fig - matplotlib.pyplot.Figure\n",
    "ax - matplotlib.pyplot.AxesSubplot\n",
    "```"
   ]
  },
  {
   "cell_type": "code",
   "execution_count": null,
   "metadata": {},
   "outputs": [],
   "source": [
    "fig,ax = fe.plot_enrichment(cell_types = [], pval_thr=2.0,msize = 50)"
   ]
  },
  {
   "cell_type": "markdown",
   "metadata": {},
   "source": [
    "# Identifying Homolog/Paralog Substitutions\n",
    "\n",
    "One of the key features of SAMap is the ability to automatically identify all instances where paralogs have much more similar expression patterns than their respective orthologs. To do this, all we need are the SAMAP objects and a list of ortholog pairs and paralog pairs. The paralogs can be either cross-species, within-species, or a mix of both. Within-species paralogs are automatically converted to cross-species paralogs by using the orthologs.\n",
    "\n",
    "***IMPORTANT***: For all genes in `ortholog_pairs` and `paralog_pairs`, this function expects the genes to\n",
    "be prepended with their corresponding species IDs (i.e. `sm.id1` or `sm.id2`). This is crucial because some pairs of transcripts between transcriptomes may have the same names, so we need to make them unique by prepending with the species\n",
    "IDs. \n",
    "\n",
    "If `paralog_pairs` is left to its default value (`None`), then all genes in the homology graph that aren't orthologs are treated as if they were paralogs. In this case, the analysis would give you \"homolog\" substitutions rather than paralog substitutions.\n",
    "\n",
    "The documentation for `ParalogSubstitutions` is:\n",
    "```\n",
    "ParalogSubstitutions(sm, ortholog_pairs, paralog_pairs=None, psub_thr = 0.3):\n",
    "\n",
    "Identify paralog substitutions. \n",
    "\n",
    "For all genes in `ortholog_pairs` and `paralog_pairs`, this function expects the genes to\n",
    "be prepended with their corresponding species IDs (i.e. `sm.id1` or `sm.id2`).\n",
    "\n",
    "Parameters\n",
    "----------\n",
    "sm - SAMAP object\n",
    "\n",
    "ortholog_pairs - n x 2 numpy array of ortholog pairs\n",
    "\n",
    "paralog_pairs - n x 2 numpy array of paralog pairs, optional, default None\n",
    "    If None, assumes every pair in the homology graph that is not an ortholog is a paralog.\n",
    "    Note that this would essentially result in the more generic 'homolog substitutions' rather\n",
    "    than paralog substitutions.\n",
    "\n",
    "    The paralogs can be either cross-species, within-species, or a mix of both. \n",
    "\n",
    "psub_thr - float, optional, default 0.3\n",
    "    Threshold for correlation difference between paralog pairs and ortholog pairs.\n",
    "    Paralog pairs that do not have greater than `psub_thr` correlation than their \n",
    "    corresponding ortholog pairs are filtered out.\n",
    "\n",
    "Returns\n",
    "-------\n",
    "RES - pandas.DataFrame\n",
    "    A table of paralog substitutions.\n",
    "```"
   ]
  },
  {
   "cell_type": "code",
   "execution_count": null,
   "metadata": {},
   "outputs": [],
   "source": [
    "TABLE = ParalogSubstitutions(sm, ortholog_pairs, paralog_pairs=None, psub_thr = 0.3)"
   ]
  },
  {
   "cell_type": "code",
   "execution_count": null,
   "metadata": {},
   "outputs": [],
   "source": [
    "TABLE.head()"
   ]
  },
  {
   "cell_type": "markdown",
   "metadata": {},
   "source": [
    "## Identifying orthologs  using EGGNOG.\n",
    "\n",
    "We can identify orthologs at different ancestral levels using the mapping tables output by EGGNOG.\n",
    "\n",
    "In the `eggNOG_OGs` column of the output mapping table are a comma-separated list of orthology groups at different ancestral levels that each transcript maps to. The levels are typically Eukaryota, Opisthokonta, Metazoa, Bilateria, Chordata, Vertebrata, and so on. We can call genes that map to the most recent common ancestor level (e.g. Vertebrata) as orthologs, and genes that map to a more ancestral level (e.g. Metazoa) as paralogs.\n",
    "\n",
    "For example, below we identify genes as orthologs if they map to the same Vertebrata orthology group and paralogs if they map to the same Metazoa orthology group.\n",
    "\n",
    "The documentation for `convert_eggnog_to_homologs` is:\n",
    "```   \n",
    "convert_eggnog_to_homologs(sm, A, B, og_key = 'eggNOG_OGs', taxon=2759)\n",
    "\n",
    "Gets an n x 2 array of homologs at some taxonomic level based on Eggnog results.\n",
    "    \n",
    "Parameters\n",
    "----------\n",
    "smp: SAMAP object\n",
    "\n",
    "A: pandas.DataFrame, Eggnog output table\n",
    "\n",
    "B: pandas.DataFrame, Eggnog output table\n",
    "\n",
    "og_key: str, optional, default 'eggNOG_OGs'\n",
    "    The column name of the orthology group mapping results in the Eggnog output table.\n",
    "    \n",
    "taxon: int, optional, default 2759\n",
    "    Taxonomic ID corresponding to the level at which genes with overlapping orthology groups\n",
    "    will be considered homologs. Defaults to the Eukaryotic level.\n",
    "\n",
    "Returns\n",
    "-------\n",
    "homolog_pairs: n x 2 numpy array of homolog pairs.\n",
    "```"
   ]
  },
  {
   "cell_type": "code",
   "execution_count": null,
   "metadata": {},
   "outputs": [],
   "source": [
    "ortholog_pairs = convert_eggnog_to_homologs(sm, A, B, og_key = 'eggNOG_OGs', taxon=7742)\n",
    "paralog_pairs = convert_eggnog_to_homologs(sm, A, B, og_key = 'eggNOG_OGs', taxon=33208)"
   ]
  }
 ],
 "metadata": {
  "kernelspec": {
   "display_name": "Python 3 (ipykernel)",
   "language": "python",
   "name": "python3"
  },
  "language_info": {
   "codemirror_mode": {
    "name": "ipython",
    "version": 3
   },
   "file_extension": ".py",
   "mimetype": "text/x-python",
   "name": "python",
   "nbconvert_exporter": "python",
   "pygments_lexer": "ipython3",
   "version": "3.8.10"
  }
 },
 "nbformat": 4,
 "nbformat_minor": 4
}
