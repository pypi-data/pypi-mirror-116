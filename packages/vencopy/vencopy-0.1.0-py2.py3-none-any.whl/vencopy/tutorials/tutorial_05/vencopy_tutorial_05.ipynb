{
 "cells": [
  {
   "cell_type": "markdown",
   "metadata": {},
   "source": [
    "# VencoPy Tutorial 5"
   ]
  },
  {
   "cell_type": "markdown",
   "metadata": {},
   "source": [
    "This tutorial aims to give a more in depth overview into the flexEstimator class and showcases some features that can be customised."
   ]
  },
  {
   "cell_type": "code",
   "execution_count": null,
   "metadata": {},
   "outputs": [],
   "source": [
    "import os, sys\n",
    "import pandas as pd\n",
    "import numpy as np\n",
    "import yaml\n",
    "import pathlib\n",
    "from ruamel.yaml import YAML\n",
    "\n",
    "from vencopy.classes.dataParsers import DataParser\n",
    "from vencopy.classes.tripDiaryBuilders import TripDiaryBuilder\n",
    "from vencopy.classes.gridModelers import GridModeler\n",
    "from vencopy.classes.flexEstimators import FlexEstimator\n",
    "from vencopy.classes.evaluators import Evaluator\n",
    "\n",
    "print(\"Current working directory: {0}\".format(os.getcwd()))"
   ]
  },
  {
   "cell_type": "code",
   "execution_count": null,
   "metadata": {},
   "outputs": [],
   "source": [
    "pathGlobalConfig = pathlib.Path.cwd().parent.parent / 'config' / 'globalConfig.yaml'\n",
    "with open(pathGlobalConfig) as ipf:\n",
    "    globalConfig = yaml.load(ipf, Loader=yaml.SafeLoader)\n",
    "pathLocalPathConfig = pathlib.Path.cwd().parent.parent  / 'config' / 'localPathConfig.yaml'\n",
    "with open(pathLocalPathConfig) as ipf:\n",
    "    localPathConfig = yaml.load(ipf, Loader=yaml.SafeLoader)\n",
    "pathParseConfig = pathlib.Path.cwd().parent.parent  / 'config' / 'parseConfig.yaml'\n",
    "with open(pathParseConfig) as ipf:\n",
    "    parseConfig = yaml.load(ipf, Loader=yaml.SafeLoader)\n",
    "pathTripConfig = pathlib.Path.cwd().parent.parent  / 'config' / 'tripConfig.yaml'\n",
    "with open(pathTripConfig) as ipf:\n",
    "    tripConfig = yaml.load(ipf, Loader=yaml.SafeLoader)\n",
    "pathGridConfig = pathlib.Path.cwd().parent.parent  / 'config' / 'gridConfig.yaml'\n",
    "with open(pathGridConfig) as ipf:\n",
    "    gridConfig = yaml.load(ipf, Loader=yaml.SafeLoader)\n",
    "pathEvaluatorConfig = pathlib.Path.cwd().parent.parent  / 'config' / 'evaluatorConfig.yaml'\n",
    "with open(pathEvaluatorConfig) as ipf:\n",
    "    evaluatorConfig = yaml.load(ipf, Loader=yaml.SafeLoader)\n",
    "pathFlexConfig = pathlib.Path.cwd().parent.parent  / 'config' / 'flexConfig.yaml'\n",
    "with open(pathFlexConfig) as ipf:\n",
    "    flexConfig = yaml.load(ipf, Loader=yaml.SafeLoader)\n",
    "    \n",
    "    \n",
    "# Set reference dataset \n",
    "datasetID = 'MiD17'\n",
    "\n",
    "# Modify the localPathConfig file to point to the .csv file in the sampling folder in the tutorials directory where the dataset for the tutorials lies.\n",
    "localPathConfig['pathAbsolute'][datasetID] = pathlib.Path.cwd().parent / 'data_sampling'\n",
    "\n",
    "# Assign to vencoPyRoot the folder in which you cloned your repository\n",
    "localPathConfig['pathAbsolute']['vencoPyRoot'] = pathlib.Path.cwd()\n",
    "\n",
    "# Similarly we modify the datasetID in the global config file\n",
    "globalConfig['files'][datasetID]['tripsDataRaw'] = datasetID + '.csv'\n",
    "\n",
    "# We also modify the parseConfig by removing some of the columns that are normally parsed from the MiD, which are not available in our semplified test dataframe\n",
    "del parseConfig['dataVariables']['hhID'] \n",
    "del parseConfig['dataVariables']['personID'] "
   ]
  },
  {
   "cell_type": "markdown",
   "metadata": {},
   "source": [
    "## FlexEstimator config file"
   ]
  },
  {
   "cell_type": "markdown",
   "metadata": {},
   "source": [
    "The FlexEstimator config file contains the technical specifications.."
   ]
  },
  {
   "cell_type": "code",
   "execution_count": null,
   "metadata": {},
   "outputs": [],
   "source": [
    "yaml.dump(flexConfig, sys.stdout)"
   ]
  },
  {
   "cell_type": "markdown",
   "metadata": {},
   "source": [
    "## _FlexEstimator_ class"
   ]
  },
  {
   "cell_type": "markdown",
   "metadata": {},
   "source": [
    "To use the FlexEstimator class, we first need to run the DataParses as this is an argument to the FlexEstimator class."
   ]
  },
  {
   "cell_type": "code",
   "execution_count": null,
   "metadata": {},
   "outputs": [],
   "source": [
    "vpData = DataParser(datasetID=datasetID, parseConfig=parseConfig, globalConfig=globalConfig, localPathConfig=localPathConfig, loadEncrypted=False)"
   ]
  },
  {
   "cell_type": "code",
   "execution_count": null,
   "metadata": {},
   "outputs": [],
   "source": [
    "# Estimate charging flexibility based on driving profiles and charge connection\n",
    "vpFlex = FlexEstimator(flexConfig=flexConfig, globalConfig=globalConfig, evaluatorConfig=evaluatorConfig, datasetID=datasetID, ParseData=vpData)\n",
    "vpFlex.baseProfileCalculation()\n",
    "vpFlex.filter()\n",
    "vpFlex.aggregate()\n",
    "vpFlex.correct()\n",
    "vpFlex.normalize()\n",
    "vpFlex.writeOut()"
   ]
  },
  {
   "cell_type": "code",
   "execution_count": null,
   "metadata": {},
   "outputs": [],
   "source": [
    "vpEval = Evaluator(globalConfig=globalConfig, evaluatorConfig=evaluatorConfig, parseData=pd.Series(data=vpData, index=[datasetID]))\n",
    "vpEval.plotProfiles(flexEstimator=vpFlex)"
   ]
  },
  {
   "cell_type": "markdown",
   "metadata": {},
   "source": [
    "To analyse its influence on the demand-side flexibility from EV, we will though charge the assumed size of the battery from 50 kWh to 75 kWh."
   ]
  },
  {
   "cell_type": "code",
   "execution_count": null,
   "metadata": {},
   "outputs": [],
   "source": [
    "flexConfig['inputDataScalars']['Battery_capacity'] = 100.0\n",
    "yaml.dump(flexConfig, sys.stdout)"
   ]
  },
  {
   "cell_type": "code",
   "execution_count": null,
   "metadata": {},
   "outputs": [],
   "source": [
    "# Estimate charging flexibility based on driving profiles and charge connection\n",
    "vpFlex = FlexEstimator(flexConfig=flexConfig, globalConfig=globalConfig, evaluatorConfig=evaluatorConfig, datasetID=datasetID, ParseData=vpData)\n",
    "vpFlex.baseProfileCalculation()\n",
    "vpFlex.filter()\n",
    "vpFlex.aggregate()\n",
    "vpFlex.correct()\n",
    "vpFlex.normalize()\n",
    "vpFlex.writeOut()"
   ]
  },
  {
   "cell_type": "code",
   "execution_count": null,
   "metadata": {},
   "outputs": [],
   "source": [
    "vpEval = Evaluator(globalConfig=globalConfig, evaluatorConfig=evaluatorConfig, parseData=pd.Series(data=vpData, index=[datasetID]))\n",
    "vpEval.plotProfiles(flexEstimator=vpFlex)"
   ]
  },
  {
   "cell_type": "markdown",
   "metadata": {},
   "source": [
    "By doubling the battery capacity we cannot really see from the graphs distinctive changes but we see that, as a result, we have 3 more profiles considered."
   ]
  },
  {
   "cell_type": "markdown",
   "metadata": {},
   "source": [
    "## Next Steps"
   ]
  },
  {
   "cell_type": "markdown",
   "metadata": {},
   "source": [
    "Come back, there will be more upcoming tutorials! :)"
   ]
  }
 ],
 "metadata": {
  "kernelspec": {
   "display_name": "Python 3",
   "language": "python",
   "name": "python3"
  },
  "language_info": {
   "codemirror_mode": {
    "name": "ipython",
    "version": 3
   },
   "file_extension": ".py",
   "mimetype": "text/x-python",
   "name": "python",
   "nbconvert_exporter": "python",
   "pygments_lexer": "ipython3",
   "version": "3.6.12"
  }
 },
 "nbformat": 4,
 "nbformat_minor": 4
}
