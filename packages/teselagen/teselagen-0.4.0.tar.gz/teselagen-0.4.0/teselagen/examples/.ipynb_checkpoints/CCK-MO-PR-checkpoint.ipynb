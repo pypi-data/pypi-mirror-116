{
 "cells": [
  {
   "cell_type": "code",
   "execution_count": 1,
   "id": "specific-matthew",
   "metadata": {},
   "outputs": [],
   "source": [
    "import json\n",
    "import platform\n",
    "from pathlib import Path\n",
    "from datetime import datetime\n",
    "\n",
    "import matplotlib\n",
    "import matplotlib.pyplot as plt\n",
    "import pandas as pd\n",
    "pd.set_option(\"display.precision\", 5)\n",
    "from tqdm import tqdm\n",
    "\n",
    "from teselagen.api.client import TeselaGenClient"
   ]
  },
  {
   "cell_type": "code",
   "execution_count": 2,
   "id": "aging-eagle",
   "metadata": {},
   "outputs": [
    {
     "name": "stdout",
     "output_type": "stream",
     "text": [
      "Password for test@teselagen.com: ········\n",
      "Connection Accepted\n"
     ]
    }
   ],
   "source": [
    "host_url=\"https://pr-app-7489.teselagen.net/\"\n",
    "client = TeselaGenClient(host_url=host_url, module_name='test')\n",
    "client.login(username=\"test@teselagen.com\", expiration_time=\"8h\")"
   ]
  },
  {
   "cell_type": "code",
   "execution_count": 3,
   "id": "verified-spain",
   "metadata": {},
   "outputs": [
    {
     "data": {
      "text/plain": [
       "[{'id': '1', 'name': 'The Test Lab'}, {'id': '3', 'name': 'Example Lab'}]"
      ]
     },
     "metadata": {},
     "output_type": "display_data"
    },
    {
     "name": "stdout",
     "output_type": "stream",
     "text": [
      "Selected Lab: Example Lab\n"
     ]
    }
   ],
   "source": [
    "## Fetch My Laboratories\n",
    "display(client.get_laboratories())\n",
    "\n",
    "## Select a Laboratory\n",
    "client.select_laboratory(lab_name=\"Example Lab\")\n",
    "#client.unselect_laboratory()"
   ]
  },
  {
   "cell_type": "code",
   "execution_count": 38,
   "id": "genuine-financing",
   "metadata": {},
   "outputs": [
    {
     "name": "stdout",
     "output_type": "stream",
     "text": [
      "Length 156\n"
     ]
    }
   ],
   "source": [
    "filepath = \"./cck_dataset.csv\"\n",
    "\n",
    "df=pd.read_csv(filepath)\n",
    "# Rename mapping columns names for auto mapping.\n",
    "mapping_column_names = df.columns[12:21].values.tolist()\n",
    "new_mapping_column_names = [column_name.replace(\"_\", \"->\") for column_name in mapping_column_names]\n",
    "new_mapping_column_names\n",
    "name_mapping = {column_name:new_column_name for column_name, new_column_name in zip(mapping_column_names,new_mapping_column_names)}\n",
    "name_mapping\n",
    "df.rename(columns=name_mapping, inplace=True)\n",
    "print(\"Length\",df.shape[0])"
   ]
  },
  {
   "cell_type": "code",
   "execution_count": 39,
   "id": "minute-indicator",
   "metadata": {},
   "outputs": [],
   "source": [
    "# We set an ID called Fermentation ID equal to \"F179\"\n",
    "if df.index.name != \"NNCNo\":\n",
    "    df.set_index('NNCNo', inplace=True)\n",
    "# df.head()"
   ]
  },
  {
   "cell_type": "markdown",
   "id": "desirable-yellow",
   "metadata": {},
   "source": [
    "## Submitting a Multi Objective Optimization Task"
   ]
  },
  {
   "cell_type": "code",
   "execution_count": 40,
   "id": "proud-rating",
   "metadata": {},
   "outputs": [],
   "source": [
    "dataInput = df.to_dict(orient='records')\n",
    "# dataInput[0]"
   ]
  },
  {
   "cell_type": "code",
   "execution_count": 41,
   "id": "exceptional-blast",
   "metadata": {},
   "outputs": [],
   "source": [
    "dataSchema = []\n",
    "for index, column in enumerate(dataInput[0].keys()):\n",
    "    schemaElement = {}\n",
    "    if index == 0:\n",
    "        schemaElement = {\n",
    "            \"name\": column,\n",
    "            \"value_type\": \"aa-sequence\",\n",
    "            \"type\": \"descriptor\"\n",
    "        }\n",
    "    elif index > 0 and index < 12:\n",
    "        schemaElement = {\n",
    "            \"name\": column,\n",
    "            \"value_type\": \"categoric\",\n",
    "            \"type\": \"descriptor\"\n",
    "        }\n",
    "    elif index >= 12 and index < 20:\n",
    "        schemaElement = {\n",
    "            \"name\": column,\n",
    "            \"value_type\": \"smiles\",\n",
    "            \"type\": \"descriptor\"\n",
    "        }\n",
    "    elif index >=20 and index < 22:\n",
    "        schemaElement = {\n",
    "            \"name\": column,\n",
    "            \"value_type\": \"numeric\",\n",
    "            \"type\": \"target\"\n",
    "        }\n",
    "    else:\n",
    "        continue\n",
    "    dataSchema.append(schemaElement)\n",
    "\n",
    "dataSchema = dataSchema[1:]\n",
    "# dataSchema"
   ]
  },
  {
   "cell_type": "markdown",
   "id": "associate-style",
   "metadata": {},
   "source": [
    "### Train Predictive Model for CCK1 and CCK2"
   ]
  },
  {
   "cell_type": "code",
   "execution_count": 42,
   "id": "after-ground",
   "metadata": {},
   "outputs": [],
   "source": [
    "data_projection_config = {\n",
    "    \"data_projection_params\": {\n",
    "        \"general\": {\n",
    "            \"algorithm_params\": {\n",
    "                \"n_components\": 0.99\n",
    "            }\n",
    "        }       \n",
    "    }\n",
    "}"
   ]
  },
  {
   "cell_type": "code",
   "execution_count": 30,
   "id": "distant-september",
   "metadata": {},
   "outputs": [
    {
     "data": {
      "text/plain": [
       "'4'"
      ]
     },
     "execution_count": 30,
     "metadata": {},
     "output_type": "execute_result"
    }
   ],
   "source": [
    "dataSchema_cck1 = dataSchema[0:-1]\n",
    "# dataSchema_cck1\n",
    "model_cck1 = client.discover.submit_model(\n",
    "    name=\"My CCK1 Model\",\n",
    "    data_input=dataInput, \n",
    "    data_schema=dataSchema_cck1, \n",
    "    model_type='predictive', \n",
    "    configs=data_projection_config)\n",
    "model_cck1_id = model_cck1['modelId']\n",
    "model_cck1_id"
   ]
  },
  {
   "cell_type": "code",
   "execution_count": 31,
   "id": "legitimate-croatia",
   "metadata": {},
   "outputs": [
    {
     "data": {
      "text/plain": [
       "'5'"
      ]
     },
     "execution_count": 31,
     "metadata": {},
     "output_type": "execute_result"
    }
   ],
   "source": [
    "dataSchema_cck2 = dataSchema[0:-2]\n",
    "dataSchema_cck2.append(dataSchema[-1])\n",
    "dataSchema_cck2\n",
    "model_cck2 = client.discover.submit_model(\n",
    "    name=\"My CCK2 Model\",\n",
    "    data_input=dataInput, \n",
    "    data_schema=dataSchema_cck2, \n",
    "    model_type='predictive', \n",
    "    configs=data_projection_config)\n",
    "model_cck2_id = model_cck2['modelId']\n",
    "model_cck2_id"
   ]
  },
  {
   "cell_type": "code",
   "execution_count": null,
   "id": "violent-enhancement",
   "metadata": {},
   "outputs": [],
   "source": []
  },
  {
   "cell_type": "markdown",
   "id": "sonic-taylor",
   "metadata": {},
   "source": [
    "### Run Multi-Objective Optimization with pretrained models"
   ]
  },
  {
   "cell_type": "code",
   "execution_count": 63,
   "id": "acting-memorabilia",
   "metadata": {},
   "outputs": [],
   "source": [
    "mo_configs = {\n",
    "    \"modeling_tool\": {\n",
    "        \"general\": {\n",
    "            \"hardware\": \"gpu\"\n",
    "        }\n",
    "    },\n",
    "    \"multi_objective_tool\": {\n",
    "    \"general\": {\n",
    "      \"number_of_initial_random_samples\": 1000,\n",
    "      \"number_of_optimization_iterations\": 100,\n",
    "      \"optimization_batch_size\": 1,\n",
    "      \"number_of_pareto_search_points\": 20,\n",
    "      \"bound_relaxation_factor\": -0.25\n",
    "    }\n",
    "  },\n",
    "}"
   ]
  },
  {
   "cell_type": "code",
   "execution_count": 59,
   "id": "brazilian-masters",
   "metadata": {},
   "outputs": [
    {
     "data": {
      "text/plain": [
       "'10'"
      ]
     },
     "execution_count": 59,
     "metadata": {},
     "output_type": "execute_result"
    }
   ],
   "source": [
    "model_cck1_id = \"4\"\n",
    "model_cck2_id = \"5\"\n",
    "task = client.discover.submit_multi_objective_optimization(\n",
    "    data_input=dataInput, \n",
    "    data_schema=dataSchema,\n",
    "    pretrainedModelIds=[model_cck1_id, model_cck2_id],\n",
    "    configs=mo_configs\n",
    ")\n",
    "task['id']"
   ]
  },
  {
   "cell_type": "code",
   "execution_count": 61,
   "id": "hindu-specific",
   "metadata": {},
   "outputs": [
    {
     "data": {
      "text/plain": [
       "{'id': '9'}"
      ]
     },
     "execution_count": 61,
     "metadata": {},
     "output_type": "execute_result"
    }
   ],
   "source": [
    "# task={\"id\": \"6\"}\n",
    "client.discover.cancel_task(task_id=task[\"id\"])\n",
    "# client.discover.cancel_task(task_id=\"9\")"
   ]
  },
  {
   "cell_type": "code",
   "execution_count": 64,
   "id": "offensive-worse",
   "metadata": {},
   "outputs": [
    {
     "data": {
      "text/plain": [
       "{'task': {'id': '10',\n",
       "  'status': 'in-progress',\n",
       "  'service': 'ds-tools-gpu',\n",
       "  'input': {'job': 'modeling-tool',\n",
       "   'kwargs': {'with_pretrained': True, 'multiobjective': True}},\n",
       "  'startedOn': '2021-04-20T15:33:24.289Z',\n",
       "  'createdAt': '2021-04-20T15:29:34.272Z',\n",
       "  'lastCheckIn': '2021-04-20T15:33:36.011Z',\n",
       "  'result': None,\n",
       "  '__typename': 'microserviceQueue'}}"
      ]
     },
     "execution_count": 64,
     "metadata": {},
     "output_type": "execute_result"
    }
   ],
   "source": [
    "result = client.discover.get_multi_objective_optimization(taskId=task['id'])\n",
    "result"
   ]
  },
  {
   "cell_type": "code",
   "execution_count": null,
   "id": "tracked-trance",
   "metadata": {},
   "outputs": [],
   "source": []
  },
  {
   "cell_type": "code",
   "execution_count": 36,
   "id": "angry-fashion",
   "metadata": {},
   "outputs": [
    {
     "data": {
      "text/plain": [
       "9.547377846"
      ]
     },
     "execution_count": 36,
     "metadata": {},
     "output_type": "execute_result"
    }
   ],
   "source": [
    "df[\"CCK1[pIC50]\"].min() - (-0.5* abs(df[\"CCK1[pIC50]\"].min()))"
   ]
  },
  {
   "cell_type": "code",
   "execution_count": 35,
   "id": "satisfied-seeking",
   "metadata": {},
   "outputs": [
    {
     "data": {
      "text/plain": [
       "-5.01576631"
      ]
     },
     "execution_count": 35,
     "metadata": {},
     "output_type": "execute_result"
    }
   ],
   "source": [
    "df[\"CCK2[pIC50]\"].min() - (-0.5* abs(df[\"CCK2[pIC50]\"].min()))"
   ]
  },
  {
   "cell_type": "code",
   "execution_count": null,
   "id": "coastal-roller",
   "metadata": {},
   "outputs": [],
   "source": []
  }
 ],
 "metadata": {
  "kernelspec": {
   "display_name": "Python 3",
   "language": "python",
   "name": "python3"
  },
  "language_info": {
   "codemirror_mode": {
    "name": "ipython",
    "version": 3
   },
   "file_extension": ".py",
   "mimetype": "text/x-python",
   "name": "python",
   "nbconvert_exporter": "python",
   "pygments_lexer": "ipython3",
   "version": "3.6.9"
  }
 },
 "nbformat": 4,
 "nbformat_minor": 5
}
